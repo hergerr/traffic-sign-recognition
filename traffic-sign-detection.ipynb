{
 "cells": [
  {
   "cell_type": "code",
   "execution_count": 7,
   "metadata": {},
   "outputs": [],
   "source": [
    "# data preparation\n",
    "\n",
    "import cv2\n",
    "import os\n",
    "import numpy as np\n",
    "import keras \n",
    "from keras.models import Sequential\n",
    "from keras.layers import Conv2D, Dense, MaxPool2D, Dropout, Flatten\n",
    "from keras.optimizers import Adam\n",
    "from keras.preprocessing.image import ImageDataGenerator\n",
    "from keras.callbacks import ReduceLROnPlateau"
   ]
  },
  {
   "cell_type": "code",
   "execution_count": 9,
   "metadata": {},
   "outputs": [
    {
     "name": "stdout",
     "output_type": "stream",
     "text": [
      "0\n"
     ]
    }
   ],
   "source": [
    "\n",
    "def resize():\n",
    "    base_path = 'GTSRB/Final_Training/Images'\n",
    "    for dirname in os.listdir(base_path):\n",
    "        for filename in os.listdir(os.path.join(base_path, dirname)):\n",
    "            if filename.endswith(\".ppm\"):\n",
    "                image_path = os.path.join(base_path, dirname, filename)\n",
    "                im = cv2.imread(image_path)\n",
    "                resized_im = cv2.resize(im, (32, 32))\n",
    "                cv2.imwrite(image_path, resized_im)\n",
    "\n",
    "\n",
    "def sanity_check():\n",
    "    base_path = 'GTSRB/Final_Training/Images'\n",
    "    counter = 0\n",
    "    for dirname in os.listdir(base_path):\n",
    "        for filename in os.listdir(os.path.join(base_path, dirname)):\n",
    "            if filename.endswith(\".ppm\"):\n",
    "                image_path = os.path.join(base_path, dirname, filename)\n",
    "                im = cv2.imread(image_path)\n",
    "                if im.shape != (32, 32, 3):\n",
    "                    counter += 1\n",
    "    print(counter)\n",
    "\n",
    "\n",
    "# resize()\n",
    "sanity_check()"
   ]
  },
  {
   "cell_type": "code",
   "execution_count": null,
   "metadata": {},
   "outputs": [],
   "source": [
    "# read images into training dataset\n",
    "X_train = "
   ]
  }
 ],
 "metadata": {
  "kernelspec": {
   "display_name": "Python 3",
   "language": "python",
   "name": "python3"
  },
  "language_info": {
   "codemirror_mode": {
    "name": "ipython",
    "version": 3
   },
   "file_extension": ".py",
   "mimetype": "text/x-python",
   "name": "python",
   "nbconvert_exporter": "python",
   "pygments_lexer": "ipython3",
   "version": "3.7.5"
  }
 },
 "nbformat": 4,
 "nbformat_minor": 2
}
