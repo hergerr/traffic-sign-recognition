{
 "cells": [
  {
   "cell_type": "markdown",
   "metadata": {},
   "source": [
    "## Data preparation"
   ]
  },
  {
   "cell_type": "code",
   "execution_count": 1,
   "metadata": {},
   "outputs": [
    {
     "name": "stderr",
     "output_type": "stream",
     "text": [
      "/home/tymek/programs/python/ripo/venv/lib/python3.7/site-packages/tensorflow/python/framework/dtypes.py:516: FutureWarning: Passing (type, 1) or '1type' as a synonym of type is deprecated; in a future version of numpy, it will be understood as (type, (1,)) / '(1,)type'.\n",
      "  _np_qint8 = np.dtype([(\"qint8\", np.int8, 1)])\n",
      "/home/tymek/programs/python/ripo/venv/lib/python3.7/site-packages/tensorflow/python/framework/dtypes.py:517: FutureWarning: Passing (type, 1) or '1type' as a synonym of type is deprecated; in a future version of numpy, it will be understood as (type, (1,)) / '(1,)type'.\n",
      "  _np_quint8 = np.dtype([(\"quint8\", np.uint8, 1)])\n",
      "/home/tymek/programs/python/ripo/venv/lib/python3.7/site-packages/tensorflow/python/framework/dtypes.py:518: FutureWarning: Passing (type, 1) or '1type' as a synonym of type is deprecated; in a future version of numpy, it will be understood as (type, (1,)) / '(1,)type'.\n",
      "  _np_qint16 = np.dtype([(\"qint16\", np.int16, 1)])\n",
      "/home/tymek/programs/python/ripo/venv/lib/python3.7/site-packages/tensorflow/python/framework/dtypes.py:519: FutureWarning: Passing (type, 1) or '1type' as a synonym of type is deprecated; in a future version of numpy, it will be understood as (type, (1,)) / '(1,)type'.\n",
      "  _np_quint16 = np.dtype([(\"quint16\", np.uint16, 1)])\n",
      "/home/tymek/programs/python/ripo/venv/lib/python3.7/site-packages/tensorflow/python/framework/dtypes.py:520: FutureWarning: Passing (type, 1) or '1type' as a synonym of type is deprecated; in a future version of numpy, it will be understood as (type, (1,)) / '(1,)type'.\n",
      "  _np_qint32 = np.dtype([(\"qint32\", np.int32, 1)])\n",
      "/home/tymek/programs/python/ripo/venv/lib/python3.7/site-packages/tensorflow/python/framework/dtypes.py:525: FutureWarning: Passing (type, 1) or '1type' as a synonym of type is deprecated; in a future version of numpy, it will be understood as (type, (1,)) / '(1,)type'.\n",
      "  np_resource = np.dtype([(\"resource\", np.ubyte, 1)])\n",
      "/home/tymek/programs/python/ripo/venv/lib/python3.7/site-packages/tensorboard/compat/tensorflow_stub/dtypes.py:541: FutureWarning: Passing (type, 1) or '1type' as a synonym of type is deprecated; in a future version of numpy, it will be understood as (type, (1,)) / '(1,)type'.\n",
      "  _np_qint8 = np.dtype([(\"qint8\", np.int8, 1)])\n",
      "/home/tymek/programs/python/ripo/venv/lib/python3.7/site-packages/tensorboard/compat/tensorflow_stub/dtypes.py:542: FutureWarning: Passing (type, 1) or '1type' as a synonym of type is deprecated; in a future version of numpy, it will be understood as (type, (1,)) / '(1,)type'.\n",
      "  _np_quint8 = np.dtype([(\"quint8\", np.uint8, 1)])\n",
      "/home/tymek/programs/python/ripo/venv/lib/python3.7/site-packages/tensorboard/compat/tensorflow_stub/dtypes.py:543: FutureWarning: Passing (type, 1) or '1type' as a synonym of type is deprecated; in a future version of numpy, it will be understood as (type, (1,)) / '(1,)type'.\n",
      "  _np_qint16 = np.dtype([(\"qint16\", np.int16, 1)])\n",
      "/home/tymek/programs/python/ripo/venv/lib/python3.7/site-packages/tensorboard/compat/tensorflow_stub/dtypes.py:544: FutureWarning: Passing (type, 1) or '1type' as a synonym of type is deprecated; in a future version of numpy, it will be understood as (type, (1,)) / '(1,)type'.\n",
      "  _np_quint16 = np.dtype([(\"quint16\", np.uint16, 1)])\n",
      "/home/tymek/programs/python/ripo/venv/lib/python3.7/site-packages/tensorboard/compat/tensorflow_stub/dtypes.py:545: FutureWarning: Passing (type, 1) or '1type' as a synonym of type is deprecated; in a future version of numpy, it will be understood as (type, (1,)) / '(1,)type'.\n",
      "  _np_qint32 = np.dtype([(\"qint32\", np.int32, 1)])\n",
      "/home/tymek/programs/python/ripo/venv/lib/python3.7/site-packages/tensorboard/compat/tensorflow_stub/dtypes.py:550: FutureWarning: Passing (type, 1) or '1type' as a synonym of type is deprecated; in a future version of numpy, it will be understood as (type, (1,)) / '(1,)type'.\n",
      "  np_resource = np.dtype([(\"resource\", np.ubyte, 1)])\n"
     ]
    }
   ],
   "source": [
    "import cv2\n",
    "import os\n",
    "import numpy as np\n",
    "import glob\n",
    "import csv\n",
    "from matplotlib import pyplot as plt\n",
    "import random\n",
    "import tensorflow as tf\n",
    "import gast\n",
    "import math\n",
    "\n",
    "from tensorflow.python.framework import ops\n",
    "\n",
    "\n",
    "BASE_PATH = 'GTSRB/Final_Training/Images'\n",
    "TEST_PATH = 'GTSRB/Final_Test'\n",
    "POLISH_PATH = 'GTSRB/Polish_Test'\n",
    "np.random.seed(1)"
   ]
  },
  {
   "cell_type": "code",
   "execution_count": 2,
   "metadata": {},
   "outputs": [],
   "source": [
    "class_names = {\n",
    "    0: \"Speed limit to 20\",\n",
    "    1: \"Speed limit to 30\",\n",
    "    2: \"Speed limit to 50\",\n",
    "    3: \"Speed limit to 60\",\n",
    "    4: \"Speed limit to 70\",\n",
    "    5: \"Speed limit to 80\",\n",
    "    6: \"End of speed limit up to 80\",\n",
    "    7: \"Speed limit to 100\",\n",
    "    8: \"Speed limit to 120\",\n",
    "    9: \"No overtaking\",\n",
    "    10: \"No overtaking for trucks\",\n",
    "    11: \"Priority to through-traffic at the next intersection/crossroads only\",\n",
    "    12: \"Priority Road\",\n",
    "    13: \"Yield to cross traffic\",\n",
    "    14: \"Stop and give way\",\n",
    "    15: \"No vehicles of any kind permitted\",\n",
    "    16: \"No trucks permitted\",\n",
    "    17: \"Do not enter\",\n",
    "    18: \"Danger point\",\n",
    "    19: \"Dangerous curve to the left\",\n",
    "    20: \"Dangerous curve to the right\",\n",
    "    21: \"Double curves, first to left\",\n",
    "    22: \"Uneven surfaces ahead\",\n",
    "    23: \"Slippery road\",\n",
    "    24: \"Road narrows on the right\",\n",
    "    25: \"Roadworks\",\n",
    "    26: \"Traffic signals - Primary Priority\",\n",
    "    27: \"Pedestrian crossing\",\n",
    "    28: \"Children crossing\",\n",
    "    29: \"Bicycle lane\",\n",
    "    30: \"Snow or Ice possible ahead\",\n",
    "    31: \"Wild animals possible\",\n",
    "    32: \"End of previous limitation\",\n",
    "    33: \"You must turn right ahead\",\n",
    "    34: \"You must turn left ahead\",\n",
    "    35: \"You must go straight ahead\",\n",
    "    36: \"You must go straight or turn right\",\n",
    "    37: \"You must go straight or turn left\",\n",
    "    38: \"Keep right of traffic barrier/divider\",\n",
    "    39: \"Keep left of traffic barrier/divider\",\n",
    "    40: \"Roundabout\",\n",
    "    41: \"End of the ban on overtaking\",\n",
    "    42: \"End of the ban on overtaking for trucks\",\n",
    "    43: \"Unclassified\"\n",
    "}"
   ]
  },
  {
   "cell_type": "markdown",
   "metadata": {},
   "source": [
    "## Functions"
   ]
  },
  {
   "cell_type": "code",
   "execution_count": 3,
   "metadata": {},
   "outputs": [],
   "source": [
    "def resize(basic_path):\n",
    "    counter = 0\n",
    "    for dirname in os.listdir(basic_path):\n",
    "        for filename in os.listdir(os.path.join(basic_path, dirname)):\n",
    "            if filename.endswith(\".ppm\"):\n",
    "                image_path = os.path.join(basic_path, dirname, filename)\n",
    "                im = cv2.imread(image_path)\n",
    "                resized_im = cv2.resize(im, (32, 32))\n",
    "                cv2.imwrite(image_path, resized_im)"
   ]
  },
  {
   "cell_type": "code",
   "execution_count": 4,
   "metadata": {},
   "outputs": [],
   "source": [
    "def sanity_check(basic_path):\n",
    "    counter = 0\n",
    "    for dirname in os.listdir(basic_path):\n",
    "        for filename in os.listdir(os.path.join(basic_path, dirname)):\n",
    "            if filename.endswith(\".ppm\"):\n",
    "                image_path = os.path.join(basic_path, dirname, filename)\n",
    "                im = cv2.imread(image_path)\n",
    "                if im.shape != (32, 32, 3):\n",
    "                    counter += 1\n",
    "    print(counter)"
   ]
  },
  {
   "cell_type": "code",
   "execution_count": 5,
   "metadata": {},
   "outputs": [],
   "source": [
    "def load_dataset():\n",
    "    filelist = glob.glob(f'{BASE_PATH}/*/*.ppm')\n",
    "    testlist = glob.glob(f'{TEST_PATH}/Images/*.ppm')\n",
    "    X_train = np.array( [np.array(cv2.normalize(cv2.imread(fname), None, alpha=0, beta=1, norm_type=cv2.NORM_MINMAX, dtype=cv2.CV_32F)) for fname in filelist] )\n",
    "    X_test = np.array( [np.array(cv2.normalize(cv2.imread(fname), None, alpha=0, beta=1, norm_type=cv2.NORM_MINMAX, dtype=cv2.CV_32F)) for fname in testlist] )\n",
    "\n",
    "    Y_train = np.array([np.zeros(43) for fname in filelist])\n",
    "    for i,fname in enumerate(filelist):\n",
    "        Y_train[i][int(fname.split('/')[3])]=1\n",
    "\n",
    "    with open(f'{TEST_PATH}/GT-final_test.csv') as csvfile:\n",
    "        spamreader = csv.reader(csvfile,delimiter=';')\n",
    "        data = list(spamreader)\n",
    "        data.pop(0)\n",
    "\n",
    "    Y_test = np.array([np.zeros(43) for fname in testlist])\n",
    "    for i,fname in enumerate(testlist):\n",
    "        image_name = fname.split('/')[3]\n",
    "        image_number = int(image_name.split('.')[0])\n",
    "        classid = int(data[image_number][7])\n",
    "        Y_test[i][classid]=1\n",
    "\n",
    "    return X_train, Y_train, X_test, Y_test"
   ]
  },
  {
   "cell_type": "code",
   "execution_count": 6,
   "metadata": {},
   "outputs": [],
   "source": [
    "def load_random_n_images_dataset(quantity=128):\n",
    "    with open(f'{TEST_PATH}/GT-final_test.csv') as csvfile:\n",
    "        spamreader = csv.reader(csvfile,delimiter=';')\n",
    "        data = list(spamreader)\n",
    "        data.pop(0)\n",
    "    \n",
    "    all_test_images = glob.glob(f'{TEST_PATH}/Images/*.ppm')\n",
    "    filelist = random.sample(all_test_images, quantity)\n",
    "    X_rand = np.array( [np.array(cv2.normalize(cv2.imread(fname), None, alpha=0, beta=1, norm_type=cv2.NORM_MINMAX, dtype=cv2.CV_32F)) for fname in filelist] )\n",
    "    X_rand = [cv2.blur(img,(3,3)) for img in X_rand]\n",
    "\n",
    "    Y_rand = np.array([np.zeros(43) for fname in filelist])\n",
    "    for i,fname in enumerate(filelist):\n",
    "        image_name = fname.split('/')[3]\n",
    "        image_number = int(image_name.split('.')[0])\n",
    "        classid = int(data[image_number][7])\n",
    "        Y_rand[i][classid]=1\n",
    "\n",
    "    return X_rand, Y_rand"
   ]
  },
  {
   "cell_type": "code",
   "execution_count": 15,
   "metadata": {},
   "outputs": [],
   "source": [
    "def load_polish_dataset():\n",
    "    filelist = glob.glob(f'{POLISH_PATH}/*.png')\n",
    "    X_polish = np.array( [np.array(cv2.normalize(cv2.imread(fname), None, alpha=0, beta=1, norm_type=cv2.NORM_MINMAX, dtype=cv2.CV_32F)) for fname in filelist] )\n",
    "\n",
    "    return X_polish\n",
    "    "
   ]
  },
  {
   "cell_type": "code",
   "execution_count": 16,
   "metadata": {},
   "outputs": [],
   "source": [
    "def show_image(index, X, Y):\n",
    "    plt.imshow(cv2.cvtColor(X[index],cv2.COLOR_BGR2RGB).astype('float32'))\n",
    "    plt.show()\n",
    "    print('Sign meanings:\\n ' + class_names[ int(np.where(Y[index]==1)[0])] )"
   ]
  },
  {
   "cell_type": "code",
   "execution_count": 17,
   "metadata": {},
   "outputs": [
    {
     "data": {
      "image/png": "[encoded data removed]",
      "text/plain": [
       "<Figure size 432x288 with 1 Axes>"
      ]
     },
     "metadata": {
      "needs_background": "light"
     },
     "output_type": "display_data"
    },
    {
     "name": "stdout",
     "output_type": "stream",
     "text": [
      "Sign meanings:\n",
      " Speed limit to 70\n"
     ]
    }
   ],
   "source": [
    "n=128\n",
    "X_rand, Y_rand = load_random_n_images_dataset(n)\n",
    "show_image(random.randint(0,n),X_rand, Y_rand)\n"
   ]
  },
  {
   "cell_type": "code",
   "execution_count": 18,
   "metadata": {
    "scrolled": true
   },
   "outputs": [
    {
     "name": "stdout",
     "output_type": "stream",
     "text": [
      "(39209, 32, 32, 3)\n",
      "(39209, 43)\n"
     ]
    },
    {
     "data": {
      "image/png": "[encoded data removed]",
      "text/plain": [
       "<Figure size 432x288 with 1 Axes>"
      ]
     },
     "metadata": {
      "needs_background": "light"
     },
     "output_type": "display_data"
    },
    {
     "name": "stdout",
     "output_type": "stream",
     "text": [
      "Sign meanings:\n",
      " Yield to cross traffic\n"
     ]
    }
   ],
   "source": [
    "X_train, Y_train, X_test, Y_test = load_dataset()\n",
    "print(X_train.shape)\n",
    "print(Y_train.shape)\n",
    "show_image(random.randint(0,12629),X_test, Y_test)"
   ]
  },
  {
   "cell_type": "code",
   "execution_count": 20,
   "metadata": {},
   "outputs": [
    {
     "data": {
      "image/png": "[encoded data removed]",
      "text/plain": [
       "<Figure size 432x288 with 1 Axes>"
      ]
     },
     "metadata": {
      "needs_background": "light"
     },
     "output_type": "display_data"
    }
   ],
   "source": [
    "X_polish = load_polish_dataset()\n",
    "plt.imshow(cv2.cvtColor(X_polish[3],cv2.COLOR_BGR2RGB).astype('float32'))\n",
    "plt.show()"
   ]
  },
  {
   "cell_type": "markdown",
   "metadata": {},
   "source": [
    "## Deep learning functions and its tests"
   ]
  },
  {
   "cell_type": "code",
   "execution_count": null,
   "metadata": {},
   "outputs": [],
   "source": [
    "def create_placeholders(n_H0, n_W0, n_C0, n_y):\n",
    "    X = tf.placeholder(shape=[None, n_H0, n_W0, n_C0], dtype='float')\n",
    "    Y = tf.placeholder(shape=[None, n_y], dtype='float')\n",
    "    return X, Y"
   ]
  },
  {
   "cell_type": "code",
   "execution_count": null,
   "metadata": {},
   "outputs": [],
   "source": [
    "def initialize_parameters():\n",
    "    tf.set_random_seed(1)\n",
    "    W1 = tf.get_variable(\"W1\", [5, 5, 3, 8], initializer = tf.contrib.layers.xavier_initializer(seed = 0))\n",
    "    W2 = tf.get_variable(\"W2\", [4, 4, 8, 16], initializer = tf.contrib.layers.xavier_initializer(seed = 0))\n",
    "    W3 = tf.get_variable(\"W3\", [3, 3, 16, 32], initializer = tf.contrib.layers.xavier_initializer(seed = 0))\n",
    "    W4 = tf.get_variable(\"W4\", [2, 2, 32, 64], initializer = tf.contrib.layers.xavier_initializer(seed = 0))\n",
    "    \n",
    "    parameters = {\"W1\": W1,\n",
    "                  \"W2\": W2,\n",
    "                  \"W3\": W3, \n",
    "                  \"W4\": W4}\n",
    "    \n",
    "    return parameters"
   ]
  },
  {
   "cell_type": "code",
   "execution_count": null,
   "metadata": {},
   "outputs": [],
   "source": [
    "def forward_propagation(X, parameters):\n",
    "    # Retrieve the parameters from the dictionary \"parameters\" \n",
    "    W1 = parameters['W1']\n",
    "    W2 = parameters['W2']\n",
    "    W3 = parameters['W3']\n",
    "    W4 = parameters['W4']\n",
    "    \n",
    "    # CONV2D: \n",
    "    Z1 = tf.nn.conv2d(X, W1, strides = [1,1,1,1], padding = 'SAME')\n",
    "    # RELU\n",
    "    A1 = tf.nn.relu(Z1)\n",
    "    # MAXPOOL:\n",
    "    P1 = tf.nn.max_pool(A1, ksize = [1,5,5,1], strides = [1,5,5,1], padding = 'SAME')\n",
    "    \n",
    "    # CONV2D: \n",
    "    Z2 = tf.nn.conv2d(P1, W2, strides = [1,1,1,1], padding = 'SAME')\n",
    "    # RELU\n",
    "    A2 = tf.nn.relu(Z2)\n",
    "    # MAXPOOL: \n",
    "    P2 = tf.nn.max_pool(A2, ksize = [1,4,4,1], strides = [1,4,4,1], padding = 'SAME')\n",
    "    \n",
    "    # CONV2D: \n",
    "    Z3 = tf.nn.conv2d(P2, W3, strides = [1,1,1,1], padding = 'SAME')\n",
    "    # RELU\n",
    "    A3 = tf.nn.relu(Z3)\n",
    "    # MAXPOOL:\n",
    "    P3 = tf.nn.max_pool(A3, ksize = [1,3,3,1], strides = [1,3,3,1], padding = 'SAME')\n",
    "    \n",
    "    # CONV2D: \n",
    "    Z4 = tf.nn.conv2d(P3, W4, strides = [1,1,1,1], padding = 'SAME')\n",
    "    # RELU\n",
    "    A4 = tf.nn.relu(Z4)\n",
    "    # MAXPOOL:\n",
    "    P4 = tf.nn.max_pool(A4, ksize = [1,2,2,1], strides = [1,2,2,1], padding = 'SAME')\n",
    "    \n",
    "    # FLATTEN\n",
    "    F = tf.contrib.layers.flatten(P4)\n",
    "    # FULLY-CONNECTED without non-linear activation function\n",
    "    Z5 = tf.contrib.layers.fully_connected(F, 43, activation_fn=None)\n",
    "\n",
    "    return Z5"
   ]
  },
  {
   "cell_type": "code",
   "execution_count": null,
   "metadata": {},
   "outputs": [],
   "source": [
    "\n",
    "def compute_cost(Z5, Y):\n",
    "    cost = tf.reduce_mean(tf.nn.softmax_cross_entropy_with_logits(logits = Z5, labels = Y))\n",
    "\n",
    "    return cost"
   ]
  },
  {
   "cell_type": "code",
   "execution_count": null,
   "metadata": {},
   "outputs": [],
   "source": [
    "def random_mini_batches(X, Y, mini_batch_size = 64, seed = 0):\n",
    "    np.random.seed(seed)            # To make your \"random\" minibatches the same as ours\n",
    "    m = X.shape[0]                  # number of training examples\n",
    "    mini_batches = []\n",
    "        \n",
    "    # Step 1: Shuffle (X, Y)\n",
    "    permutation = list(np.random.permutation(m))\n",
    "    shuffled_X = X[permutation, :, :, :]\n",
    "    shuffled_Y = Y[permutation, :]\n",
    "\n",
    "    # Step 2: Partition (shuffled_X, shuffled_Y). Minus the end case.\n",
    "    num_complete_minibatches = math.floor(m/mini_batch_size) # number of mini batches of size mini_batch_size in your partitionning\n",
    "    for k in range(0, num_complete_minibatches):\n",
    "        mini_batch_X = shuffled_X[k*mini_batch_size : (k+1)*mini_batch_size, :,  :, :]\n",
    "        mini_batch_Y = shuffled_Y[k*mini_batch_size : (k+1)*mini_batch_size, :]\n",
    "        mini_batch = (mini_batch_X, mini_batch_Y)\n",
    "        mini_batches.append(mini_batch)\n",
    "    \n",
    "    # Handling the end case (last mini-batch < mini_batch_size)\n",
    "    if m % mini_batch_size != 0:\n",
    "        mini_batch_X = shuffled_X[num_complete_minibatches*mini_batch_size:, :, :, :]\n",
    "        mini_batch_Y = shuffled_Y[num_complete_minibatches*mini_batch_size:, :]\n",
    "        mini_batch = (mini_batch_X, mini_batch_Y)\n",
    "        mini_batches.append(mini_batch)\n",
    "    \n",
    "    return mini_batches"
   ]
  },
  {
   "cell_type": "code",
   "execution_count": null,
   "metadata": {},
   "outputs": [],
   "source": [
    "def model(X_train, Y_train, X_test, Y_test, learning_rate = 0.009,\n",
    "          num_epochs = 26, minibatch_size = 256, print_cost = True):\n",
    "    \n",
    "    ops.reset_default_graph()                         # to be able to rerun the model without overwriting tf variables\n",
    "    tf.set_random_seed(1)                             # to keep results consistent (tensorflow seed)\n",
    "    seed = 3                                          # to keep results consistent (numpy seed)\n",
    "    (m, n_H0, n_W0, n_C0) = X_train.shape             \n",
    "    n_y = Y_train.shape[1]                            \n",
    "    costs = []                                        # To keep track of the cost\n",
    "    \n",
    "    X, Y = create_placeholders(n_H0, n_W0, n_C0, n_y)\n",
    "    parameters = initialize_parameters()\n",
    "    \n",
    "    Z3 = forward_propagation(X, parameters)\n",
    "    cost = compute_cost(Z3, Y)\n",
    "    \n",
    "    optimizer = tf.train.AdamOptimizer(learning_rate = learning_rate).minimize(cost)\n",
    "    \n",
    "    init = tf.global_variables_initializer()\n",
    "     \n",
    "    with tf.Session() as sess:\n",
    "        sess.run(init)\n",
    "        for epoch in range(num_epochs):\n",
    "            minibatch_cost = 0.\n",
    "            num_minibatches = int(m / minibatch_size) # number of minibatches of size minibatch_size in the train set\n",
    "            seed = seed + 1\n",
    "            minibatches = random_mini_batches(X_train, Y_train, minibatch_size, seed)\n",
    "\n",
    "            for minibatch in minibatches:\n",
    "\n",
    "                # Select a minibatch\n",
    "                (minibatch_X, minibatch_Y) = minibatch\n",
    "                _ , temp_cost = sess.run(fetches=[optimizer, cost],\n",
    "                                         feed_dict={X: minibatch_X,\n",
    "                                                    Y: minibatch_Y})\n",
    "                minibatch_cost += temp_cost / num_minibatches\n",
    "                \n",
    "\n",
    "            # Print the cost every epoch\n",
    "            if print_cost == True and epoch % 5 == 0:\n",
    "                print (\"Cost after epoch %i: %f\" % (epoch, minibatch_cost))\n",
    "            if print_cost == True and epoch % 1 == 0:\n",
    "                costs.append(minibatch_cost)\n",
    "        \n",
    "        \n",
    "        # plot the cost\n",
    "        plt.plot(np.squeeze(costs))\n",
    "        plt.ylabel('cost')\n",
    "        plt.xlabel('iterations (per tens)')\n",
    "        plt.title(\"Learning rate =\" + str(learning_rate))\n",
    "        plt.show()\n",
    "\n",
    "        # Calculate the correct predictions\n",
    "        predict_op = tf.argmax(Z3, 1)\n",
    "        correct_prediction = tf.equal(predict_op, tf.argmax(Y, 1))\n",
    "        \n",
    "        # Calculate accuracy on the test set\n",
    "        accuracy = tf.reduce_mean(tf.cast(correct_prediction, \"float\"))\n",
    "        train_accuracy = accuracy.eval({X: X_train, Y: Y_train})\n",
    "        print(\"Train Accuracy:\", train_accuracy)\n",
    "        test_accuracy = accuracy.eval({X: X_test, Y: Y_test})\n",
    "        print(\"Test Accuracy:\", test_accuracy)"
   ]
  },
  {
   "cell_type": "code",
   "execution_count": null,
   "metadata": {},
   "outputs": [],
   "source": [
    "model(X_train, Y_train, X_test, Y_test)"
   ]
  },
  {
   "cell_type": "code",
   "execution_count": null,
   "metadata": {},
   "outputs": [],
   "source": []
  }
 ],
 "metadata": {
  "kernelspec": {
   "display_name": "ripo",
   "language": "python",
   "name": "ripo"
  },
  "language_info": {
   "codemirror_mode": {
    "name": "ipython",
    "version": 3
   },
   "file_extension": ".py",
   "mimetype": "text/x-python",
   "name": "python",
   "nbconvert_exporter": "python",
   "pygments_lexer": "ipython3",
   "version": "3.7.5"
  }
 },
 "nbformat": 4,
 "nbformat_minor": 4
}
