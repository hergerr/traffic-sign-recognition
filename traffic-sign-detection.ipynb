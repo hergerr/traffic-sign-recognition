{
 "cells": [
  {
   "cell_type": "markdown",
   "metadata": {},
   "source": [
    "## Data preparation"
   ]
  },
  {
   "cell_type": "code",
   "execution_count": 19,
   "metadata": {},
   "outputs": [],
   "source": [
    "import cv2\n",
    "import os\n",
    "import numpy as np\n",
    "import glob\n",
    "import csv\n",
    "from matplotlib import pyplot as plt\n",
    "import random\n",
    "import tensorflow as tf\n",
    "import gast\n",
    "import math\n",
    "import random\n",
    "\n",
    "from tensorflow.python.framework import ops\n",
    "\n",
    "\n",
    "BASE_PATH = 'GTSRB/Final_Training/Images'\n",
    "TEST_PATH = 'GTSRB/Final_Test'\n",
    "POLISH_PATH = 'GTSRB/Polish_Test'\n",
    "np.random.seed(1)"
   ]
  },
  {
   "cell_type": "code",
   "execution_count": 20,
   "metadata": {},
   "outputs": [],
   "source": [
    "class_names = {\n",
    "    0: \"Speed limit to 20\",\n",
    "    1: \"Speed limit to 30\",\n",
    "    2: \"Speed limit to 50\",\n",
    "    3: \"Speed limit to 60\",\n",
    "    4: \"Speed limit to 70\",\n",
    "    5: \"Speed limit to 80\",\n",
    "    6: \"End of speed limit up to 80\",\n",
    "    7: \"Speed limit to 100\",\n",
    "    8: \"Speed limit to 120\",\n",
    "    9: \"No overtaking\",\n",
    "    10: \"No overtaking for trucks\",\n",
    "    11: \"Priority to through-traffic at the next intersection/crossroads only\",\n",
    "    12: \"Priority Road\",\n",
    "    13: \"Yield to cross traffic\",\n",
    "    14: \"Stop and give way\",\n",
    "    15: \"No vehicles of any kind permitted\",\n",
    "    16: \"No trucks permitted\",\n",
    "    17: \"Do not enter\",\n",
    "    18: \"Danger point\",\n",
    "    19: \"Dangerous curve to the left\",\n",
    "    20: \"Dangerous curve to the right\",\n",
    "    21: \"Double curves, first to left\",\n",
    "    22: \"Uneven surfaces ahead\",\n",
    "    23: \"Slippery road\",\n",
    "    24: \"Road narrows on the right\",\n",
    "    25: \"Roadworks\",\n",
    "    26: \"Traffic signals - Primary Priority\",\n",
    "    27: \"Pedestrian crossing\",\n",
    "    28: \"Children crossing\",\n",
    "    29: \"Bicycle lane\",\n",
    "    30: \"Snow or Ice possible ahead\",\n",
    "    31: \"Wild animals possible\",\n",
    "    32: \"End of previous limitation\",\n",
    "    33: \"You must turn right ahead\",\n",
    "    34: \"You must turn left ahead\",\n",
    "    35: \"You must go straight ahead\",\n",
    "    36: \"You must go straight or turn right\",\n",
    "    37: \"You must go straight or turn left\",\n",
    "    38: \"Keep right of traffic barrier/divider\",\n",
    "    39: \"Keep left of traffic barrier/divider\",\n",
    "    40: \"Roundabout\",\n",
    "    41: \"End of the ban on overtaking\",\n",
    "    42: \"End of the ban on overtaking for trucks\",\n",
    "    43: \"Unclassified\"\n",
    "}"
   ]
  },
  {
   "cell_type": "markdown",
   "metadata": {},
   "source": [
    "## Functions"
   ]
  },
  {
   "cell_type": "code",
   "execution_count": 21,
   "metadata": {},
   "outputs": [],
   "source": [
    "def resize(basic_path):\n",
    "    counter = 0\n",
    "    for dirname in os.listdir(basic_path):\n",
    "        for filename in os.listdir(os.path.join(basic_path, dirname)):\n",
    "            if filename.endswith(\".ppm\"):\n",
    "                image_path = os.path.join(basic_path, dirname, filename)\n",
    "                im = cv2.imread(image_path)\n",
    "                resized_im = cv2.resize(im, (32, 32))\n",
    "                cv2.imwrite(image_path, resized_im)"
   ]
  },
  {
   "cell_type": "code",
   "execution_count": 22,
   "metadata": {},
   "outputs": [],
   "source": [
    "def sanity_check(basic_path):\n",
    "    counter = 0\n",
    "    for dirname in os.listdir(basic_path):\n",
    "        for filename in os.listdir(os.path.join(basic_path, dirname)):\n",
    "            if filename.endswith(\".ppm\"):\n",
    "                image_path = os.path.join(basic_path, dirname, filename)\n",
    "                im = cv2.imread(image_path)\n",
    "                if im.shape != (32, 32, 3):\n",
    "                    counter += 1\n",
    "    print(counter)"
   ]
  },
  {
   "cell_type": "code",
   "execution_count": 23,
   "metadata": {},
   "outputs": [],
   "source": [
    "def load_dataset():\n",
    "    filelist = glob.glob(f'{BASE_PATH}/*/*.ppm')\n",
    "    testlist = glob.glob(f'{TEST_PATH}/Images/*.ppm')\n",
    "    X_train = np.array( [np.array(cv2.normalize(cv2.imread(fname), None, alpha=0, beta=1, norm_type=cv2.NORM_MINMAX, dtype=cv2.CV_32F)) for fname in filelist] )\n",
    "    X_test = np.array( [np.array(cv2.normalize(cv2.imread(fname), None, alpha=0, beta=1, norm_type=cv2.NORM_MINMAX, dtype=cv2.CV_32F)) for fname in testlist] )\n",
    "\n",
    "    Y_train = np.array([np.zeros(43) for fname in filelist])\n",
    "    for i,fname in enumerate(filelist):\n",
    "        Y_train[i][int(fname.split('/')[3])]=1\n",
    "\n",
    "    with open(f'{TEST_PATH}/GT-final_test.csv') as csvfile:\n",
    "        spamreader = csv.reader(csvfile,delimiter=';')\n",
    "        data = list(spamreader)\n",
    "        data.pop(0)\n",
    "\n",
    "    Y_test = np.array([np.zeros(43) for fname in testlist])\n",
    "    for i,fname in enumerate(testlist):\n",
    "        image_name = fname.split('/')[3]\n",
    "        image_number = int(image_name.split('.')[0])\n",
    "        classid = int(data[image_number][7])\n",
    "        Y_test[i][classid]=1\n",
    "\n",
    "    return X_train, Y_train, X_test, Y_test"
   ]
  },
  {
   "cell_type": "code",
   "execution_count": 24,
   "metadata": {},
   "outputs": [],
   "source": [
    "def load_random_n_images_dataset(quantity=128):\n",
    "    with open(f'{TEST_PATH}/GT-final_test.csv') as csvfile:\n",
    "        spamreader = csv.reader(csvfile,delimiter=';')\n",
    "        data = list(spamreader)\n",
    "        data.pop(0)\n",
    "    \n",
    "    all_test_images = glob.glob(f'{TEST_PATH}/Images/*.ppm')\n",
    "    filelist = random.sample(all_test_images, quantity)\n",
    "    X_rand = np.array( [np.array(cv2.normalize(cv2.imread(fname), None, alpha=0, beta=1, norm_type=cv2.NORM_MINMAX, dtype=cv2.CV_32F)) for fname in filelist] )\n",
    "    X_rand = [cv2.blur(img,(3,3)) for img in X_rand]\n",
    "\n",
    "    Y_rand = np.array([np.zeros(43) for fname in filelist])\n",
    "    for i,fname in enumerate(filelist):\n",
    "        image_name = fname.split('/')[3]\n",
    "        image_number = int(image_name.split('.')[0])\n",
    "        classid = int(data[image_number][7])\n",
    "        Y_rand[i][classid]=1\n",
    "\n",
    "    return X_rand, Y_rand"
   ]
  },
  {
   "cell_type": "code",
   "execution_count": 25,
   "metadata": {},
   "outputs": [],
   "source": [
    "def load_polish_dataset():\n",
    "    filelist = glob.glob(f'{POLISH_PATH}/*.png')\n",
    "    X_polish = np.array( [np.array(cv2.normalize(cv2.imread(fname), None, alpha=0, beta=1, norm_type=cv2.NORM_MINMAX, dtype=cv2.CV_32F)) for fname in filelist] )\n",
    "\n",
    "    with open(f'{POLISH_PATH}/Polish_test.csv') as csvfile:\n",
    "        spamreader = csv.reader(csvfile,delimiter=';')\n",
    "        data = list(spamreader)\n",
    "        data.pop(0)\n",
    "\n",
    "    Y_polish = np.array([np.zeros(43) for fname in filelist])\n",
    "    for i,fname in enumerate(filelist):\n",
    "        image_name = fname.split('/')[2]\n",
    "        #image_number = int(image_name.split('.')[0][4:])\n",
    "        #print(image_number)\n",
    "        classid = int(data[i][1])\n",
    "        Y_polish[i][classid]=1\n",
    "\n",
    "    return X_polish, Y_polish\n"
   ]
  },
  {
   "cell_type": "code",
   "execution_count": 26,
   "metadata": {},
   "outputs": [],
   "source": [
    "def show_image(index, X, Y):\n",
    "    plt.imshow(cv2.cvtColor(X[index],cv2.COLOR_BGR2RGB).astype('float32'))\n",
    "    plt.show()\n",
    "    print('Sign meanings:\\n ' + class_names[ int(np.where(Y[index]==1)[0])] )"
   ]
  },
  {
   "cell_type": "code",
   "execution_count": 27,
   "metadata": {},
   "outputs": [
    {
     "output_type": "display_data",
     "data": {
      "text/plain": "<Figure size 432x288 with 1 Axes>",
      "image/svg+xml": "<?xml version=\"1.0\" encoding=\"utf-8\" standalone=\"no\"?>\n<!DOCTYPE svg PUBLIC \"-//W3C//DTD SVG 1.1//EN\"\n  \"http://www.w3.org/Graphics/SVG/1.1/DTD/svg11.dtd\">\n<!-- Created with matplotlib (https://matplotlib.org/) -->\n<svg height=\"248.919844pt\" version=\"1.1\" viewBox=\"0 0 251.565 248.919844\" width=\"251.565pt\" xmlns=\"http://www.w3.org/2000/svg\" xmlns:xlink=\"http://www.w3.org/1999/xlink\">\n <defs>\n  <style type=\"text/css\">\n*{stroke-linecap:butt;stroke-linejoin:round;}\n  </style>\n </defs>\n <g id=\"figure_1\">\n  <g id=\"patch_1\">\n   <path d=\"M 0 248.919844 \nL 251.565 248.919844 \nL 251.565 0 \nL 0 0 \nz\n\" style=\"fill:none;\"/>\n  </g>\n  <g id=\"axes_1\">\n   <g id=\"patch_2\">\n    <path d=\"M 26.925 225.041719 \nL 244.365 225.041719 \nL 244.365 7.601719 \nL 26.925 7.601719 \nz\n\" style=\"fill:#ffffff;\"/>\n   </g>\n   <g clip-path=\"url(#p465b7acd94)\">\n    <image height=\"218\" id=\"image12502e0f9c\" transform=\"scale(1 -1)translate(0 -218)\" width=\"218\" x=\"26.925\" xlink:href=\"data:image/png;base64,\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\" y=\"-7.041719\"/>\n   </g>\n   <g id=\"matplotlib.axis_1\">\n    <g id=\"xtick_1\">\n     <g id=\"line2d_1\">\n      <defs>\n       <path d=\"M 0 0 \nL 0 3.5 \n\" id=\"me12f88bfb7\" style=\"stroke:#000000;stroke-width:0.8;\"/>\n      </defs>\n      <g>\n       <use style=\"stroke:#000000;stroke-width:0.8;\" x=\"30.3225\" xlink:href=\"#me12f88bfb7\" y=\"225.041719\"/>\n      </g>\n     </g>\n     <g id=\"text_1\">\n      <!-- 0 -->\n      <defs>\n       <path d=\"M 31.78125 66.40625 \nQ 24.171875 66.40625 20.328125 58.90625 \nQ 16.5 51.421875 16.5 36.375 \nQ 16.5 21.390625 20.328125 13.890625 \nQ 24.171875 6.390625 31.78125 6.390625 \nQ 39.453125 6.390625 43.28125 13.890625 \nQ 47.125 21.390625 47.125 36.375 \nQ 47.125 51.421875 43.28125 58.90625 \nQ 39.453125 66.40625 31.78125 66.40625 \nz\nM 31.78125 74.21875 \nQ 44.046875 74.21875 50.515625 64.515625 \nQ 56.984375 54.828125 56.984375 36.375 \nQ 56.984375 17.96875 50.515625 8.265625 \nQ 44.046875 -1.421875 31.78125 -1.421875 \nQ 19.53125 -1.421875 13.0625 8.265625 \nQ 6.59375 17.96875 6.59375 36.375 \nQ 6.59375 54.828125 13.0625 64.515625 \nQ 19.53125 74.21875 31.78125 74.21875 \nz\n\" id=\"DejaVuSans-48\"/>\n      </defs>\n      <g transform=\"translate(27.14125 239.640156)scale(0.1 -0.1)\">\n       <use xlink:href=\"#DejaVuSans-48\"/>\n      </g>\n     </g>\n    </g>\n    <g id=\"xtick_2\">\n     <g id=\"line2d_2\">\n      <g>\n       <use style=\"stroke:#000000;stroke-width:0.8;\" x=\"64.2975\" xlink:href=\"#me12f88bfb7\" y=\"225.041719\"/>\n      </g>\n     </g>\n     <g id=\"text_2\">\n      <!-- 5 -->\n      <defs>\n       <path d=\"M 10.796875 72.90625 \nL 49.515625 72.90625 \nL 49.515625 64.59375 \nL 19.828125 64.59375 \nL 19.828125 46.734375 \nQ 21.96875 47.46875 24.109375 47.828125 \nQ 26.265625 48.1875 28.421875 48.1875 \nQ 40.625 48.1875 47.75 41.5 \nQ 54.890625 34.8125 54.890625 23.390625 \nQ 54.890625 11.625 47.5625 5.09375 \nQ 40.234375 -1.421875 26.90625 -1.421875 \nQ 22.3125 -1.421875 17.546875 -0.640625 \nQ 12.796875 0.140625 7.71875 1.703125 \nL 7.71875 11.625 \nQ 12.109375 9.234375 16.796875 8.0625 \nQ 21.484375 6.890625 26.703125 6.890625 \nQ 35.15625 6.890625 40.078125 11.328125 \nQ 45.015625 15.765625 45.015625 23.390625 \nQ 45.015625 31 40.078125 35.4375 \nQ 35.15625 39.890625 26.703125 39.890625 \nQ 22.75 39.890625 18.8125 39.015625 \nQ 14.890625 38.140625 10.796875 36.28125 \nz\n\" id=\"DejaVuSans-53\"/>\n      </defs>\n      <g transform=\"translate(61.11625 239.640156)scale(0.1 -0.1)\">\n       <use xlink:href=\"#DejaVuSans-53\"/>\n      </g>\n     </g>\n    </g>\n    <g id=\"xtick_3\">\n     <g id=\"line2d_3\">\n      <g>\n       <use style=\"stroke:#000000;stroke-width:0.8;\" x=\"98.2725\" xlink:href=\"#me12f88bfb7\" y=\"225.041719\"/>\n      </g>\n     </g>\n     <g id=\"text_3\">\n      <!-- 10 -->\n      <defs>\n       <path d=\"M 12.40625 8.296875 \nL 28.515625 8.296875 \nL 28.515625 63.921875 \nL 10.984375 60.40625 \nL 10.984375 69.390625 \nL 28.421875 72.90625 \nL 38.28125 72.90625 \nL 38.28125 8.296875 \nL 54.390625 8.296875 \nL 54.390625 0 \nL 12.40625 0 \nz\n\" id=\"DejaVuSans-49\"/>\n      </defs>\n      <g transform=\"translate(91.91 239.640156)scale(0.1 -0.1)\">\n       <use xlink:href=\"#DejaVuSans-49\"/>\n       <use x=\"63.623047\" xlink:href=\"#DejaVuSans-48\"/>\n      </g>\n     </g>\n    </g>\n    <g id=\"xtick_4\">\n     <g id=\"line2d_4\">\n      <g>\n       <use style=\"stroke:#000000;stroke-width:0.8;\" x=\"132.2475\" xlink:href=\"#me12f88bfb7\" y=\"225.041719\"/>\n      </g>\n     </g>\n     <g id=\"text_4\">\n      <!-- 15 -->\n      <g transform=\"translate(125.885 239.640156)scale(0.1 -0.1)\">\n       <use xlink:href=\"#DejaVuSans-49\"/>\n       <use x=\"63.623047\" xlink:href=\"#DejaVuSans-53\"/>\n      </g>\n     </g>\n    </g>\n    <g id=\"xtick_5\">\n     <g id=\"line2d_5\">\n      <g>\n       <use style=\"stroke:#000000;stroke-width:0.8;\" x=\"166.2225\" xlink:href=\"#me12f88bfb7\" y=\"225.041719\"/>\n      </g>\n     </g>\n     <g id=\"text_5\">\n      <!-- 20 -->\n      <defs>\n       <path d=\"M 19.1875 8.296875 \nL 53.609375 8.296875 \nL 53.609375 0 \nL 7.328125 0 \nL 7.328125 8.296875 \nQ 12.9375 14.109375 22.625 23.890625 \nQ 32.328125 33.6875 34.8125 36.53125 \nQ 39.546875 41.84375 41.421875 45.53125 \nQ 43.3125 49.21875 43.3125 52.78125 \nQ 43.3125 58.59375 39.234375 62.25 \nQ 35.15625 65.921875 28.609375 65.921875 \nQ 23.96875 65.921875 18.8125 64.3125 \nQ 13.671875 62.703125 7.8125 59.421875 \nL 7.8125 69.390625 \nQ 13.765625 71.78125 18.9375 73 \nQ 24.125 74.21875 28.421875 74.21875 \nQ 39.75 74.21875 46.484375 68.546875 \nQ 53.21875 62.890625 53.21875 53.421875 \nQ 53.21875 48.921875 51.53125 44.890625 \nQ 49.859375 40.875 45.40625 35.40625 \nQ 44.1875 33.984375 37.640625 27.21875 \nQ 31.109375 20.453125 19.1875 8.296875 \nz\n\" id=\"DejaVuSans-50\"/>\n      </defs>\n      <g transform=\"translate(159.86 239.640156)scale(0.1 -0.1)\">\n       <use xlink:href=\"#DejaVuSans-50\"/>\n       <use x=\"63.623047\" xlink:href=\"#DejaVuSans-48\"/>\n      </g>\n     </g>\n    </g>\n    <g id=\"xtick_6\">\n     <g id=\"line2d_6\">\n      <g>\n       <use style=\"stroke:#000000;stroke-width:0.8;\" x=\"200.1975\" xlink:href=\"#me12f88bfb7\" y=\"225.041719\"/>\n      </g>\n     </g>\n     <g id=\"text_6\">\n      <!-- 25 -->\n      <g transform=\"translate(193.835 239.640156)scale(0.1 -0.1)\">\n       <use xlink:href=\"#DejaVuSans-50\"/>\n       <use x=\"63.623047\" xlink:href=\"#DejaVuSans-53\"/>\n      </g>\n     </g>\n    </g>\n    <g id=\"xtick_7\">\n     <g id=\"line2d_7\">\n      <g>\n       <use style=\"stroke:#000000;stroke-width:0.8;\" x=\"234.1725\" xlink:href=\"#me12f88bfb7\" y=\"225.041719\"/>\n      </g>\n     </g>\n     <g id=\"text_7\">\n      <!-- 30 -->\n      <defs>\n       <path d=\"M 40.578125 39.3125 \nQ 47.65625 37.796875 51.625 33 \nQ 55.609375 28.21875 55.609375 21.1875 \nQ 55.609375 10.40625 48.1875 4.484375 \nQ 40.765625 -1.421875 27.09375 -1.421875 \nQ 22.515625 -1.421875 17.65625 -0.515625 \nQ 12.796875 0.390625 7.625 2.203125 \nL 7.625 11.71875 \nQ 11.71875 9.328125 16.59375 8.109375 \nQ 21.484375 6.890625 26.8125 6.890625 \nQ 36.078125 6.890625 40.9375 10.546875 \nQ 45.796875 14.203125 45.796875 21.1875 \nQ 45.796875 27.640625 41.28125 31.265625 \nQ 36.765625 34.90625 28.71875 34.90625 \nL 20.21875 34.90625 \nL 20.21875 43.015625 \nL 29.109375 43.015625 \nQ 36.375 43.015625 40.234375 45.921875 \nQ 44.09375 48.828125 44.09375 54.296875 \nQ 44.09375 59.90625 40.109375 62.90625 \nQ 36.140625 65.921875 28.71875 65.921875 \nQ 24.65625 65.921875 20.015625 65.03125 \nQ 15.375 64.15625 9.8125 62.3125 \nL 9.8125 71.09375 \nQ 15.4375 72.65625 20.34375 73.4375 \nQ 25.25 74.21875 29.59375 74.21875 \nQ 40.828125 74.21875 47.359375 69.109375 \nQ 53.90625 64.015625 53.90625 55.328125 \nQ 53.90625 49.265625 50.4375 45.09375 \nQ 46.96875 40.921875 40.578125 39.3125 \nz\n\" id=\"DejaVuSans-51\"/>\n      </defs>\n      <g transform=\"translate(227.81 239.640156)scale(0.1 -0.1)\">\n       <use xlink:href=\"#DejaVuSans-51\"/>\n       <use x=\"63.623047\" xlink:href=\"#DejaVuSans-48\"/>\n      </g>\n     </g>\n    </g>\n   </g>\n   <g id=\"matplotlib.axis_2\">\n    <g id=\"ytick_1\">\n     <g id=\"line2d_8\">\n      <defs>\n       <path d=\"M 0 0 \nL -3.5 0 \n\" id=\"m3e7c5b15d9\" style=\"stroke:#000000;stroke-width:0.8;\"/>\n      </defs>\n      <g>\n       <use style=\"stroke:#000000;stroke-width:0.8;\" x=\"26.925\" xlink:href=\"#m3e7c5b15d9\" y=\"10.999219\"/>\n      </g>\n     </g>\n     <g id=\"text_8\">\n      <!-- 0 -->\n      <g transform=\"translate(13.5625 14.798437)scale(0.1 -0.1)\">\n       <use xlink:href=\"#DejaVuSans-48\"/>\n      </g>\n     </g>\n    </g>\n    <g id=\"ytick_2\">\n     <g id=\"line2d_9\">\n      <g>\n       <use style=\"stroke:#000000;stroke-width:0.8;\" x=\"26.925\" xlink:href=\"#m3e7c5b15d9\" y=\"44.974219\"/>\n      </g>\n     </g>\n     <g id=\"text_9\">\n      <!-- 5 -->\n      <g transform=\"translate(13.5625 48.773437)scale(0.1 -0.1)\">\n       <use xlink:href=\"#DejaVuSans-53\"/>\n      </g>\n     </g>\n    </g>\n    <g id=\"ytick_3\">\n     <g id=\"line2d_10\">\n      <g>\n       <use style=\"stroke:#000000;stroke-width:0.8;\" x=\"26.925\" xlink:href=\"#m3e7c5b15d9\" y=\"78.949219\"/>\n      </g>\n     </g>\n     <g id=\"text_10\">\n      <!-- 10 -->\n      <g transform=\"translate(7.2 82.748437)scale(0.1 -0.1)\">\n       <use xlink:href=\"#DejaVuSans-49\"/>\n       <use x=\"63.623047\" xlink:href=\"#DejaVuSans-48\"/>\n      </g>\n     </g>\n    </g>\n    <g id=\"ytick_4\">\n     <g id=\"line2d_11\">\n      <g>\n       <use style=\"stroke:#000000;stroke-width:0.8;\" x=\"26.925\" xlink:href=\"#m3e7c5b15d9\" y=\"112.924219\"/>\n      </g>\n     </g>\n     <g id=\"text_11\">\n      <!-- 15 -->\n      <g transform=\"translate(7.2 116.723437)scale(0.1 -0.1)\">\n       <use xlink:href=\"#DejaVuSans-49\"/>\n       <use x=\"63.623047\" xlink:href=\"#DejaVuSans-53\"/>\n      </g>\n     </g>\n    </g>\n    <g id=\"ytick_5\">\n     <g id=\"line2d_12\">\n      <g>\n       <use style=\"stroke:#000000;stroke-width:0.8;\" x=\"26.925\" xlink:href=\"#m3e7c5b15d9\" y=\"146.899219\"/>\n      </g>\n     </g>\n     <g id=\"text_12\">\n      <!-- 20 -->\n      <g transform=\"translate(7.2 150.698437)scale(0.1 -0.1)\">\n       <use xlink:href=\"#DejaVuSans-50\"/>\n       <use x=\"63.623047\" xlink:href=\"#DejaVuSans-48\"/>\n      </g>\n     </g>\n    </g>\n    <g id=\"ytick_6\">\n     <g id=\"line2d_13\">\n      <g>\n       <use style=\"stroke:#000000;stroke-width:0.8;\" x=\"26.925\" xlink:href=\"#m3e7c5b15d9\" y=\"180.874219\"/>\n      </g>\n     </g>\n     <g id=\"text_13\">\n      <!-- 25 -->\n      <g transform=\"translate(7.2 184.673437)scale(0.1 -0.1)\">\n       <use xlink:href=\"#DejaVuSans-50\"/>\n       <use x=\"63.623047\" xlink:href=\"#DejaVuSans-53\"/>\n      </g>\n     </g>\n    </g>\n    <g id=\"ytick_7\">\n     <g id=\"line2d_14\">\n      <g>\n       <use style=\"stroke:#000000;stroke-width:0.8;\" x=\"26.925\" xlink:href=\"#m3e7c5b15d9\" y=\"214.849219\"/>\n      </g>\n     </g>\n     <g id=\"text_14\">\n      <!-- 30 -->\n      <g transform=\"translate(7.2 218.648437)scale(0.1 -0.1)\">\n       <use xlink:href=\"#DejaVuSans-51\"/>\n       <use x=\"63.623047\" xlink:href=\"#DejaVuSans-48\"/>\n      </g>\n     </g>\n    </g>\n   </g>\n   <g id=\"patch_3\">\n    <path d=\"M 26.925 225.041719 \nL 26.925 7.601719 \n\" style=\"fill:none;stroke:#000000;stroke-linecap:square;stroke-linejoin:miter;stroke-width:0.8;\"/>\n   </g>\n   <g id=\"patch_4\">\n    <path d=\"M 244.365 225.041719 \nL 244.365 7.601719 \n\" style=\"fill:none;stroke:#000000;stroke-linecap:square;stroke-linejoin:miter;stroke-width:0.8;\"/>\n   </g>\n   <g id=\"patch_5\">\n    <path d=\"M 26.925 225.041719 \nL 244.365 225.041719 \n\" style=\"fill:none;stroke:#000000;stroke-linecap:square;stroke-linejoin:miter;stroke-width:0.8;\"/>\n   </g>\n   <g id=\"patch_6\">\n    <path d=\"M 26.925 7.601719 \nL 244.365 7.601719 \n\" style=\"fill:none;stroke:#000000;stroke-linecap:square;stroke-linejoin:miter;stroke-width:0.8;\"/>\n   </g>\n  </g>\n </g>\n <defs>\n  <clipPath id=\"p465b7acd94\">\n   <rect height=\"217.44\" width=\"217.44\" x=\"26.925\" y=\"7.601719\"/>\n  </clipPath>\n </defs>\n</svg>\n",
      "image/png": "[encoded data removed]"
     },
     "metadata": {
      "needs_background": "light"
     }
    },
    {
     "output_type": "stream",
     "name": "stdout",
     "text": "Sign meanings:\n Speed limit to 100\n"
    }
   ],
   "source": [
    "n=128\n",
    "X_rand, Y_rand = load_random_n_images_dataset(n)\n",
    "show_image(random.randint(0,n),X_rand, Y_rand)\n"
   ]
  },
  {
   "cell_type": "code",
   "execution_count": 28,
   "metadata": {
    "scrolled": true
   },
   "outputs": [
    {
     "output_type": "stream",
     "name": "stdout",
     "text": "(39209, 32, 32, 3)\n(39209, 43)\n"
    },
    {
     "output_type": "display_data",
     "data": {
      "text/plain": "<Figure size 432x288 with 1 Axes>",
      "image/svg+xml": "<?xml version=\"1.0\" encoding=\"utf-8\" standalone=\"no\"?>\n<!DOCTYPE svg PUBLIC \"-//W3C//DTD SVG 1.1//EN\"\n  \"http://www.w3.org/Graphics/SVG/1.1/DTD/svg11.dtd\">\n<!-- Created with matplotlib (https://matplotlib.org/) -->\n<svg height=\"248.919844pt\" version=\"1.1\" viewBox=\"0 0 251.565 248.919844\" width=\"251.565pt\" xmlns=\"http://www.w3.org/2000/svg\" xmlns:xlink=\"http://www.w3.org/1999/xlink\">\n <defs>\n  <style type=\"text/css\">\n*{stroke-linecap:butt;stroke-linejoin:round;}\n  </style>\n </defs>\n <g id=\"figure_1\">\n  <g id=\"patch_1\">\n   <path d=\"M 0 248.919844 \nL 251.565 248.919844 \nL 251.565 0 \nL 0 0 \nz\n\" style=\"fill:none;\"/>\n  </g>\n  <g id=\"axes_1\">\n   <g id=\"patch_2\">\n    <path d=\"M 26.925 225.041719 \nL 244.365 225.041719 \nL 244.365 7.601719 \nL 26.925 7.601719 \nz\n\" style=\"fill:#ffffff;\"/>\n   </g>\n   <g clip-path=\"url(#p53de4cc990)\">\n    <image height=\"218\" id=\"imaged2e69bd068\" transform=\"scale(1 -1)translate(0 -218)\" width=\"218\" x=\"26.925\" xlink:href=\"data:image/png;base64,\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\" y=\"-7.041719\"/>\n   </g>\n   <g id=\"matplotlib.axis_1\">\n    <g id=\"xtick_1\">\n     <g id=\"line2d_1\">\n      <defs>\n       <path d=\"M 0 0 \nL 0 3.5 \n\" id=\"mc3f3b8c2a6\" style=\"stroke:#000000;stroke-width:0.8;\"/>\n      </defs>\n      <g>\n       <use style=\"stroke:#000000;stroke-width:0.8;\" x=\"30.3225\" xlink:href=\"#mc3f3b8c2a6\" y=\"225.041719\"/>\n      </g>\n     </g>\n     <g id=\"text_1\">\n      <!-- 0 -->\n      <defs>\n       <path d=\"M 31.78125 66.40625 \nQ 24.171875 66.40625 20.328125 58.90625 \nQ 16.5 51.421875 16.5 36.375 \nQ 16.5 21.390625 20.328125 13.890625 \nQ 24.171875 6.390625 31.78125 6.390625 \nQ 39.453125 6.390625 43.28125 13.890625 \nQ 47.125 21.390625 47.125 36.375 \nQ 47.125 51.421875 43.28125 58.90625 \nQ 39.453125 66.40625 31.78125 66.40625 \nz\nM 31.78125 74.21875 \nQ 44.046875 74.21875 50.515625 64.515625 \nQ 56.984375 54.828125 56.984375 36.375 \nQ 56.984375 17.96875 50.515625 8.265625 \nQ 44.046875 -1.421875 31.78125 -1.421875 \nQ 19.53125 -1.421875 13.0625 8.265625 \nQ 6.59375 17.96875 6.59375 36.375 \nQ 6.59375 54.828125 13.0625 64.515625 \nQ 19.53125 74.21875 31.78125 74.21875 \nz\n\" id=\"DejaVuSans-48\"/>\n      </defs>\n      <g transform=\"translate(27.14125 239.640156)scale(0.1 -0.1)\">\n       <use xlink:href=\"#DejaVuSans-48\"/>\n      </g>\n     </g>\n    </g>\n    <g id=\"xtick_2\">\n     <g id=\"line2d_2\">\n      <g>\n       <use style=\"stroke:#000000;stroke-width:0.8;\" x=\"64.2975\" xlink:href=\"#mc3f3b8c2a6\" y=\"225.041719\"/>\n      </g>\n     </g>\n     <g id=\"text_2\">\n      <!-- 5 -->\n      <defs>\n       <path d=\"M 10.796875 72.90625 \nL 49.515625 72.90625 \nL 49.515625 64.59375 \nL 19.828125 64.59375 \nL 19.828125 46.734375 \nQ 21.96875 47.46875 24.109375 47.828125 \nQ 26.265625 48.1875 28.421875 48.1875 \nQ 40.625 48.1875 47.75 41.5 \nQ 54.890625 34.8125 54.890625 23.390625 \nQ 54.890625 11.625 47.5625 5.09375 \nQ 40.234375 -1.421875 26.90625 -1.421875 \nQ 22.3125 -1.421875 17.546875 -0.640625 \nQ 12.796875 0.140625 7.71875 1.703125 \nL 7.71875 11.625 \nQ 12.109375 9.234375 16.796875 8.0625 \nQ 21.484375 6.890625 26.703125 6.890625 \nQ 35.15625 6.890625 40.078125 11.328125 \nQ 45.015625 15.765625 45.015625 23.390625 \nQ 45.015625 31 40.078125 35.4375 \nQ 35.15625 39.890625 26.703125 39.890625 \nQ 22.75 39.890625 18.8125 39.015625 \nQ 14.890625 38.140625 10.796875 36.28125 \nz\n\" id=\"DejaVuSans-53\"/>\n      </defs>\n      <g transform=\"translate(61.11625 239.640156)scale(0.1 -0.1)\">\n       <use xlink:href=\"#DejaVuSans-53\"/>\n      </g>\n     </g>\n    </g>\n    <g id=\"xtick_3\">\n     <g id=\"line2d_3\">\n      <g>\n       <use style=\"stroke:#000000;stroke-width:0.8;\" x=\"98.2725\" xlink:href=\"#mc3f3b8c2a6\" y=\"225.041719\"/>\n      </g>\n     </g>\n     <g id=\"text_3\">\n      <!-- 10 -->\n      <defs>\n       <path d=\"M 12.40625 8.296875 \nL 28.515625 8.296875 \nL 28.515625 63.921875 \nL 10.984375 60.40625 \nL 10.984375 69.390625 \nL 28.421875 72.90625 \nL 38.28125 72.90625 \nL 38.28125 8.296875 \nL 54.390625 8.296875 \nL 54.390625 0 \nL 12.40625 0 \nz\n\" id=\"DejaVuSans-49\"/>\n      </defs>\n      <g transform=\"translate(91.91 239.640156)scale(0.1 -0.1)\">\n       <use xlink:href=\"#DejaVuSans-49\"/>\n       <use x=\"63.623047\" xlink:href=\"#DejaVuSans-48\"/>\n      </g>\n     </g>\n    </g>\n    <g id=\"xtick_4\">\n     <g id=\"line2d_4\">\n      <g>\n       <use style=\"stroke:#000000;stroke-width:0.8;\" x=\"132.2475\" xlink:href=\"#mc3f3b8c2a6\" y=\"225.041719\"/>\n      </g>\n     </g>\n     <g id=\"text_4\">\n      <!-- 15 -->\n      <g transform=\"translate(125.885 239.640156)scale(0.1 -0.1)\">\n       <use xlink:href=\"#DejaVuSans-49\"/>\n       <use x=\"63.623047\" xlink:href=\"#DejaVuSans-53\"/>\n      </g>\n     </g>\n    </g>\n    <g id=\"xtick_5\">\n     <g id=\"line2d_5\">\n      <g>\n       <use style=\"stroke:#000000;stroke-width:0.8;\" x=\"166.2225\" xlink:href=\"#mc3f3b8c2a6\" y=\"225.041719\"/>\n      </g>\n     </g>\n     <g id=\"text_5\">\n      <!-- 20 -->\n      <defs>\n       <path d=\"M 19.1875 8.296875 \nL 53.609375 8.296875 \nL 53.609375 0 \nL 7.328125 0 \nL 7.328125 8.296875 \nQ 12.9375 14.109375 22.625 23.890625 \nQ 32.328125 33.6875 34.8125 36.53125 \nQ 39.546875 41.84375 41.421875 45.53125 \nQ 43.3125 49.21875 43.3125 52.78125 \nQ 43.3125 58.59375 39.234375 62.25 \nQ 35.15625 65.921875 28.609375 65.921875 \nQ 23.96875 65.921875 18.8125 64.3125 \nQ 13.671875 62.703125 7.8125 59.421875 \nL 7.8125 69.390625 \nQ 13.765625 71.78125 18.9375 73 \nQ 24.125 74.21875 28.421875 74.21875 \nQ 39.75 74.21875 46.484375 68.546875 \nQ 53.21875 62.890625 53.21875 53.421875 \nQ 53.21875 48.921875 51.53125 44.890625 \nQ 49.859375 40.875 45.40625 35.40625 \nQ 44.1875 33.984375 37.640625 27.21875 \nQ 31.109375 20.453125 19.1875 8.296875 \nz\n\" id=\"DejaVuSans-50\"/>\n      </defs>\n      <g transform=\"translate(159.86 239.640156)scale(0.1 -0.1)\">\n       <use xlink:href=\"#DejaVuSans-50\"/>\n       <use x=\"63.623047\" xlink:href=\"#DejaVuSans-48\"/>\n      </g>\n     </g>\n    </g>\n    <g id=\"xtick_6\">\n     <g id=\"line2d_6\">\n      <g>\n       <use style=\"stroke:#000000;stroke-width:0.8;\" x=\"200.1975\" xlink:href=\"#mc3f3b8c2a6\" y=\"225.041719\"/>\n      </g>\n     </g>\n     <g id=\"text_6\">\n      <!-- 25 -->\n      <g transform=\"translate(193.835 239.640156)scale(0.1 -0.1)\">\n       <use xlink:href=\"#DejaVuSans-50\"/>\n       <use x=\"63.623047\" xlink:href=\"#DejaVuSans-53\"/>\n      </g>\n     </g>\n    </g>\n    <g id=\"xtick_7\">\n     <g id=\"line2d_7\">\n      <g>\n       <use style=\"stroke:#000000;stroke-width:0.8;\" x=\"234.1725\" xlink:href=\"#mc3f3b8c2a6\" y=\"225.041719\"/>\n      </g>\n     </g>\n     <g id=\"text_7\">\n      <!-- 30 -->\n      <defs>\n       <path d=\"M 40.578125 39.3125 \nQ 47.65625 37.796875 51.625 33 \nQ 55.609375 28.21875 55.609375 21.1875 \nQ 55.609375 10.40625 48.1875 4.484375 \nQ 40.765625 -1.421875 27.09375 -1.421875 \nQ 22.515625 -1.421875 17.65625 -0.515625 \nQ 12.796875 0.390625 7.625 2.203125 \nL 7.625 11.71875 \nQ 11.71875 9.328125 16.59375 8.109375 \nQ 21.484375 6.890625 26.8125 6.890625 \nQ 36.078125 6.890625 40.9375 10.546875 \nQ 45.796875 14.203125 45.796875 21.1875 \nQ 45.796875 27.640625 41.28125 31.265625 \nQ 36.765625 34.90625 28.71875 34.90625 \nL 20.21875 34.90625 \nL 20.21875 43.015625 \nL 29.109375 43.015625 \nQ 36.375 43.015625 40.234375 45.921875 \nQ 44.09375 48.828125 44.09375 54.296875 \nQ 44.09375 59.90625 40.109375 62.90625 \nQ 36.140625 65.921875 28.71875 65.921875 \nQ 24.65625 65.921875 20.015625 65.03125 \nQ 15.375 64.15625 9.8125 62.3125 \nL 9.8125 71.09375 \nQ 15.4375 72.65625 20.34375 73.4375 \nQ 25.25 74.21875 29.59375 74.21875 \nQ 40.828125 74.21875 47.359375 69.109375 \nQ 53.90625 64.015625 53.90625 55.328125 \nQ 53.90625 49.265625 50.4375 45.09375 \nQ 46.96875 40.921875 40.578125 39.3125 \nz\n\" id=\"DejaVuSans-51\"/>\n      </defs>\n      <g transform=\"translate(227.81 239.640156)scale(0.1 -0.1)\">\n       <use xlink:href=\"#DejaVuSans-51\"/>\n       <use x=\"63.623047\" xlink:href=\"#DejaVuSans-48\"/>\n      </g>\n     </g>\n    </g>\n   </g>\n   <g id=\"matplotlib.axis_2\">\n    <g id=\"ytick_1\">\n     <g id=\"line2d_8\">\n      <defs>\n       <path d=\"M 0 0 \nL -3.5 0 \n\" id=\"mbdcd3decd2\" style=\"stroke:#000000;stroke-width:0.8;\"/>\n      </defs>\n      <g>\n       <use style=\"stroke:#000000;stroke-width:0.8;\" x=\"26.925\" xlink:href=\"#mbdcd3decd2\" y=\"10.999219\"/>\n      </g>\n     </g>\n     <g id=\"text_8\">\n      <!-- 0 -->\n      <g transform=\"translate(13.5625 14.798437)scale(0.1 -0.1)\">\n       <use xlink:href=\"#DejaVuSans-48\"/>\n      </g>\n     </g>\n    </g>\n    <g id=\"ytick_2\">\n     <g id=\"line2d_9\">\n      <g>\n       <use style=\"stroke:#000000;stroke-width:0.8;\" x=\"26.925\" xlink:href=\"#mbdcd3decd2\" y=\"44.974219\"/>\n      </g>\n     </g>\n     <g id=\"text_9\">\n      <!-- 5 -->\n      <g transform=\"translate(13.5625 48.773437)scale(0.1 -0.1)\">\n       <use xlink:href=\"#DejaVuSans-53\"/>\n      </g>\n     </g>\n    </g>\n    <g id=\"ytick_3\">\n     <g id=\"line2d_10\">\n      <g>\n       <use style=\"stroke:#000000;stroke-width:0.8;\" x=\"26.925\" xlink:href=\"#mbdcd3decd2\" y=\"78.949219\"/>\n      </g>\n     </g>\n     <g id=\"text_10\">\n      <!-- 10 -->\n      <g transform=\"translate(7.2 82.748437)scale(0.1 -0.1)\">\n       <use xlink:href=\"#DejaVuSans-49\"/>\n       <use x=\"63.623047\" xlink:href=\"#DejaVuSans-48\"/>\n      </g>\n     </g>\n    </g>\n    <g id=\"ytick_4\">\n     <g id=\"line2d_11\">\n      <g>\n       <use style=\"stroke:#000000;stroke-width:0.8;\" x=\"26.925\" xlink:href=\"#mbdcd3decd2\" y=\"112.924219\"/>\n      </g>\n     </g>\n     <g id=\"text_11\">\n      <!-- 15 -->\n      <g transform=\"translate(7.2 116.723437)scale(0.1 -0.1)\">\n       <use xlink:href=\"#DejaVuSans-49\"/>\n       <use x=\"63.623047\" xlink:href=\"#DejaVuSans-53\"/>\n      </g>\n     </g>\n    </g>\n    <g id=\"ytick_5\">\n     <g id=\"line2d_12\">\n      <g>\n       <use style=\"stroke:#000000;stroke-width:0.8;\" x=\"26.925\" xlink:href=\"#mbdcd3decd2\" y=\"146.899219\"/>\n      </g>\n     </g>\n     <g id=\"text_12\">\n      <!-- 20 -->\n      <g transform=\"translate(7.2 150.698437)scale(0.1 -0.1)\">\n       <use xlink:href=\"#DejaVuSans-50\"/>\n       <use x=\"63.623047\" xlink:href=\"#DejaVuSans-48\"/>\n      </g>\n     </g>\n    </g>\n    <g id=\"ytick_6\">\n     <g id=\"line2d_13\">\n      <g>\n       <use style=\"stroke:#000000;stroke-width:0.8;\" x=\"26.925\" xlink:href=\"#mbdcd3decd2\" y=\"180.874219\"/>\n      </g>\n     </g>\n     <g id=\"text_13\">\n      <!-- 25 -->\n      <g transform=\"translate(7.2 184.673437)scale(0.1 -0.1)\">\n       <use xlink:href=\"#DejaVuSans-50\"/>\n       <use x=\"63.623047\" xlink:href=\"#DejaVuSans-53\"/>\n      </g>\n     </g>\n    </g>\n    <g id=\"ytick_7\">\n     <g id=\"line2d_14\">\n      <g>\n       <use style=\"stroke:#000000;stroke-width:0.8;\" x=\"26.925\" xlink:href=\"#mbdcd3decd2\" y=\"214.849219\"/>\n      </g>\n     </g>\n     <g id=\"text_14\">\n      <!-- 30 -->\n      <g transform=\"translate(7.2 218.648437)scale(0.1 -0.1)\">\n       <use xlink:href=\"#DejaVuSans-51\"/>\n       <use x=\"63.623047\" xlink:href=\"#DejaVuSans-48\"/>\n      </g>\n     </g>\n    </g>\n   </g>\n   <g id=\"patch_3\">\n    <path d=\"M 26.925 225.041719 \nL 26.925 7.601719 \n\" style=\"fill:none;stroke:#000000;stroke-linecap:square;stroke-linejoin:miter;stroke-width:0.8;\"/>\n   </g>\n   <g id=\"patch_4\">\n    <path d=\"M 244.365 225.041719 \nL 244.365 7.601719 \n\" style=\"fill:none;stroke:#000000;stroke-linecap:square;stroke-linejoin:miter;stroke-width:0.8;\"/>\n   </g>\n   <g id=\"patch_5\">\n    <path d=\"M 26.925 225.041719 \nL 244.365 225.041719 \n\" style=\"fill:none;stroke:#000000;stroke-linecap:square;stroke-linejoin:miter;stroke-width:0.8;\"/>\n   </g>\n   <g id=\"patch_6\">\n    <path d=\"M 26.925 7.601719 \nL 244.365 7.601719 \n\" style=\"fill:none;stroke:#000000;stroke-linecap:square;stroke-linejoin:miter;stroke-width:0.8;\"/>\n   </g>\n  </g>\n </g>\n <defs>\n  <clipPath id=\"p53de4cc990\">\n   <rect height=\"217.44\" width=\"217.44\" x=\"26.925\" y=\"7.601719\"/>\n  </clipPath>\n </defs>\n</svg>\n",
      "image/png": "[encoded data removed]"
     },
     "metadata": {
      "needs_background": "light"
     }
    },
    {
     "output_type": "stream",
     "name": "stdout",
     "text": "Sign meanings:\n Speed limit to 50\n[[0. 0. 0. ... 0. 0. 0.]\n [0. 0. 0. ... 0. 0. 0.]\n [0. 0. 0. ... 0. 0. 0.]\n ...\n [0. 0. 0. ... 0. 0. 0.]\n [0. 0. 0. ... 0. 0. 0.]\n [0. 0. 0. ... 0. 0. 0.]]\n"
    }
   ],
   "source": [
    "X_train, Y_train, X_test, Y_test = load_dataset()\n",
    "print(X_train.shape)\n",
    "print(Y_train.shape)\n",
    "show_image(random.randint(0,12629),X_test, Y_test)\n",
    "print(Y_test)"
   ]
  },
  {
   "cell_type": "code",
   "execution_count": 29,
   "metadata": {},
   "outputs": [
    {
     "output_type": "display_data",
     "data": {
      "text/plain": "<Figure size 432x288 with 1 Axes>",
      "image/svg+xml": "<?xml version=\"1.0\" encoding=\"utf-8\" standalone=\"no\"?>\n<!DOCTYPE svg PUBLIC \"-//W3C//DTD SVG 1.1//EN\"\n  \"http://www.w3.org/Graphics/SVG/1.1/DTD/svg11.dtd\">\n<!-- Created with matplotlib (https://matplotlib.org/) -->\n<svg height=\"248.919844pt\" version=\"1.1\" viewBox=\"0 0 251.565 248.919844\" width=\"251.565pt\" xmlns=\"http://www.w3.org/2000/svg\" xmlns:xlink=\"http://www.w3.org/1999/xlink\">\n <defs>\n  <style type=\"text/css\">\n*{stroke-linecap:butt;stroke-linejoin:round;}\n  </style>\n </defs>\n <g id=\"figure_1\">\n  <g id=\"patch_1\">\n   <path d=\"M 0 248.919844 \nL 251.565 248.919844 \nL 251.565 0 \nL 0 0 \nz\n\" style=\"fill:none;\"/>\n  </g>\n  <g id=\"axes_1\">\n   <g id=\"patch_2\">\n    <path d=\"M 26.925 225.041719 \nL 244.365 225.041719 \nL 244.365 7.601719 \nL 26.925 7.601719 \nz\n\" style=\"fill:#ffffff;\"/>\n   </g>\n   <g clip-path=\"url(#p9d27259911)\">\n    <image height=\"218\" id=\"imagea4154252ea\" transform=\"scale(1 -1)translate(0 -218)\" width=\"218\" x=\"26.925\" xlink:href=\"data:image/png;base64,\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\" y=\"-7.041719\"/>\n   </g>\n   <g id=\"matplotlib.axis_1\">\n    <g id=\"xtick_1\">\n     <g id=\"line2d_1\">\n      <defs>\n       <path d=\"M 0 0 \nL 0 3.5 \n\" id=\"mbaa1d1fbfd\" style=\"stroke:#000000;stroke-width:0.8;\"/>\n      </defs>\n      <g>\n       <use style=\"stroke:#000000;stroke-width:0.8;\" x=\"30.3225\" xlink:href=\"#mbaa1d1fbfd\" y=\"225.041719\"/>\n      </g>\n     </g>\n     <g id=\"text_1\">\n      <!-- 0 -->\n      <defs>\n       <path d=\"M 31.78125 66.40625 \nQ 24.171875 66.40625 20.328125 58.90625 \nQ 16.5 51.421875 16.5 36.375 \nQ 16.5 21.390625 20.328125 13.890625 \nQ 24.171875 6.390625 31.78125 6.390625 \nQ 39.453125 6.390625 43.28125 13.890625 \nQ 47.125 21.390625 47.125 36.375 \nQ 47.125 51.421875 43.28125 58.90625 \nQ 39.453125 66.40625 31.78125 66.40625 \nz\nM 31.78125 74.21875 \nQ 44.046875 74.21875 50.515625 64.515625 \nQ 56.984375 54.828125 56.984375 36.375 \nQ 56.984375 17.96875 50.515625 8.265625 \nQ 44.046875 -1.421875 31.78125 -1.421875 \nQ 19.53125 -1.421875 13.0625 8.265625 \nQ 6.59375 17.96875 6.59375 36.375 \nQ 6.59375 54.828125 13.0625 64.515625 \nQ 19.53125 74.21875 31.78125 74.21875 \nz\n\" id=\"DejaVuSans-48\"/>\n      </defs>\n      <g transform=\"translate(27.14125 239.640156)scale(0.1 -0.1)\">\n       <use xlink:href=\"#DejaVuSans-48\"/>\n      </g>\n     </g>\n    </g>\n    <g id=\"xtick_2\">\n     <g id=\"line2d_2\">\n      <g>\n       <use style=\"stroke:#000000;stroke-width:0.8;\" x=\"64.2975\" xlink:href=\"#mbaa1d1fbfd\" y=\"225.041719\"/>\n      </g>\n     </g>\n     <g id=\"text_2\">\n      <!-- 5 -->\n      <defs>\n       <path d=\"M 10.796875 72.90625 \nL 49.515625 72.90625 \nL 49.515625 64.59375 \nL 19.828125 64.59375 \nL 19.828125 46.734375 \nQ 21.96875 47.46875 24.109375 47.828125 \nQ 26.265625 48.1875 28.421875 48.1875 \nQ 40.625 48.1875 47.75 41.5 \nQ 54.890625 34.8125 54.890625 23.390625 \nQ 54.890625 11.625 47.5625 5.09375 \nQ 40.234375 -1.421875 26.90625 -1.421875 \nQ 22.3125 -1.421875 17.546875 -0.640625 \nQ 12.796875 0.140625 7.71875 1.703125 \nL 7.71875 11.625 \nQ 12.109375 9.234375 16.796875 8.0625 \nQ 21.484375 6.890625 26.703125 6.890625 \nQ 35.15625 6.890625 40.078125 11.328125 \nQ 45.015625 15.765625 45.015625 23.390625 \nQ 45.015625 31 40.078125 35.4375 \nQ 35.15625 39.890625 26.703125 39.890625 \nQ 22.75 39.890625 18.8125 39.015625 \nQ 14.890625 38.140625 10.796875 36.28125 \nz\n\" id=\"DejaVuSans-53\"/>\n      </defs>\n      <g transform=\"translate(61.11625 239.640156)scale(0.1 -0.1)\">\n       <use xlink:href=\"#DejaVuSans-53\"/>\n      </g>\n     </g>\n    </g>\n    <g id=\"xtick_3\">\n     <g id=\"line2d_3\">\n      <g>\n       <use style=\"stroke:#000000;stroke-width:0.8;\" x=\"98.2725\" xlink:href=\"#mbaa1d1fbfd\" y=\"225.041719\"/>\n      </g>\n     </g>\n     <g id=\"text_3\">\n      <!-- 10 -->\n      <defs>\n       <path d=\"M 12.40625 8.296875 \nL 28.515625 8.296875 \nL 28.515625 63.921875 \nL 10.984375 60.40625 \nL 10.984375 69.390625 \nL 28.421875 72.90625 \nL 38.28125 72.90625 \nL 38.28125 8.296875 \nL 54.390625 8.296875 \nL 54.390625 0 \nL 12.40625 0 \nz\n\" id=\"DejaVuSans-49\"/>\n      </defs>\n      <g transform=\"translate(91.91 239.640156)scale(0.1 -0.1)\">\n       <use xlink:href=\"#DejaVuSans-49\"/>\n       <use x=\"63.623047\" xlink:href=\"#DejaVuSans-48\"/>\n      </g>\n     </g>\n    </g>\n    <g id=\"xtick_4\">\n     <g id=\"line2d_4\">\n      <g>\n       <use style=\"stroke:#000000;stroke-width:0.8;\" x=\"132.2475\" xlink:href=\"#mbaa1d1fbfd\" y=\"225.041719\"/>\n      </g>\n     </g>\n     <g id=\"text_4\">\n      <!-- 15 -->\n      <g transform=\"translate(125.885 239.640156)scale(0.1 -0.1)\">\n       <use xlink:href=\"#DejaVuSans-49\"/>\n       <use x=\"63.623047\" xlink:href=\"#DejaVuSans-53\"/>\n      </g>\n     </g>\n    </g>\n    <g id=\"xtick_5\">\n     <g id=\"line2d_5\">\n      <g>\n       <use style=\"stroke:#000000;stroke-width:0.8;\" x=\"166.2225\" xlink:href=\"#mbaa1d1fbfd\" y=\"225.041719\"/>\n      </g>\n     </g>\n     <g id=\"text_5\">\n      <!-- 20 -->\n      <defs>\n       <path d=\"M 19.1875 8.296875 \nL 53.609375 8.296875 \nL 53.609375 0 \nL 7.328125 0 \nL 7.328125 8.296875 \nQ 12.9375 14.109375 22.625 23.890625 \nQ 32.328125 33.6875 34.8125 36.53125 \nQ 39.546875 41.84375 41.421875 45.53125 \nQ 43.3125 49.21875 43.3125 52.78125 \nQ 43.3125 58.59375 39.234375 62.25 \nQ 35.15625 65.921875 28.609375 65.921875 \nQ 23.96875 65.921875 18.8125 64.3125 \nQ 13.671875 62.703125 7.8125 59.421875 \nL 7.8125 69.390625 \nQ 13.765625 71.78125 18.9375 73 \nQ 24.125 74.21875 28.421875 74.21875 \nQ 39.75 74.21875 46.484375 68.546875 \nQ 53.21875 62.890625 53.21875 53.421875 \nQ 53.21875 48.921875 51.53125 44.890625 \nQ 49.859375 40.875 45.40625 35.40625 \nQ 44.1875 33.984375 37.640625 27.21875 \nQ 31.109375 20.453125 19.1875 8.296875 \nz\n\" id=\"DejaVuSans-50\"/>\n      </defs>\n      <g transform=\"translate(159.86 239.640156)scale(0.1 -0.1)\">\n       <use xlink:href=\"#DejaVuSans-50\"/>\n       <use x=\"63.623047\" xlink:href=\"#DejaVuSans-48\"/>\n      </g>\n     </g>\n    </g>\n    <g id=\"xtick_6\">\n     <g id=\"line2d_6\">\n      <g>\n       <use style=\"stroke:#000000;stroke-width:0.8;\" x=\"200.1975\" xlink:href=\"#mbaa1d1fbfd\" y=\"225.041719\"/>\n      </g>\n     </g>\n     <g id=\"text_6\">\n      <!-- 25 -->\n      <g transform=\"translate(193.835 239.640156)scale(0.1 -0.1)\">\n       <use xlink:href=\"#DejaVuSans-50\"/>\n       <use x=\"63.623047\" xlink:href=\"#DejaVuSans-53\"/>\n      </g>\n     </g>\n    </g>\n    <g id=\"xtick_7\">\n     <g id=\"line2d_7\">\n      <g>\n       <use style=\"stroke:#000000;stroke-width:0.8;\" x=\"234.1725\" xlink:href=\"#mbaa1d1fbfd\" y=\"225.041719\"/>\n      </g>\n     </g>\n     <g id=\"text_7\">\n      <!-- 30 -->\n      <defs>\n       <path d=\"M 40.578125 39.3125 \nQ 47.65625 37.796875 51.625 33 \nQ 55.609375 28.21875 55.609375 21.1875 \nQ 55.609375 10.40625 48.1875 4.484375 \nQ 40.765625 -1.421875 27.09375 -1.421875 \nQ 22.515625 -1.421875 17.65625 -0.515625 \nQ 12.796875 0.390625 7.625 2.203125 \nL 7.625 11.71875 \nQ 11.71875 9.328125 16.59375 8.109375 \nQ 21.484375 6.890625 26.8125 6.890625 \nQ 36.078125 6.890625 40.9375 10.546875 \nQ 45.796875 14.203125 45.796875 21.1875 \nQ 45.796875 27.640625 41.28125 31.265625 \nQ 36.765625 34.90625 28.71875 34.90625 \nL 20.21875 34.90625 \nL 20.21875 43.015625 \nL 29.109375 43.015625 \nQ 36.375 43.015625 40.234375 45.921875 \nQ 44.09375 48.828125 44.09375 54.296875 \nQ 44.09375 59.90625 40.109375 62.90625 \nQ 36.140625 65.921875 28.71875 65.921875 \nQ 24.65625 65.921875 20.015625 65.03125 \nQ 15.375 64.15625 9.8125 62.3125 \nL 9.8125 71.09375 \nQ 15.4375 72.65625 20.34375 73.4375 \nQ 25.25 74.21875 29.59375 74.21875 \nQ 40.828125 74.21875 47.359375 69.109375 \nQ 53.90625 64.015625 53.90625 55.328125 \nQ 53.90625 49.265625 50.4375 45.09375 \nQ 46.96875 40.921875 40.578125 39.3125 \nz\n\" id=\"DejaVuSans-51\"/>\n      </defs>\n      <g transform=\"translate(227.81 239.640156)scale(0.1 -0.1)\">\n       <use xlink:href=\"#DejaVuSans-51\"/>\n       <use x=\"63.623047\" xlink:href=\"#DejaVuSans-48\"/>\n      </g>\n     </g>\n    </g>\n   </g>\n   <g id=\"matplotlib.axis_2\">\n    <g id=\"ytick_1\">\n     <g id=\"line2d_8\">\n      <defs>\n       <path d=\"M 0 0 \nL -3.5 0 \n\" id=\"mc9c368b7db\" style=\"stroke:#000000;stroke-width:0.8;\"/>\n      </defs>\n      <g>\n       <use style=\"stroke:#000000;stroke-width:0.8;\" x=\"26.925\" xlink:href=\"#mc9c368b7db\" y=\"10.999219\"/>\n      </g>\n     </g>\n     <g id=\"text_8\">\n      <!-- 0 -->\n      <g transform=\"translate(13.5625 14.798437)scale(0.1 -0.1)\">\n       <use xlink:href=\"#DejaVuSans-48\"/>\n      </g>\n     </g>\n    </g>\n    <g id=\"ytick_2\">\n     <g id=\"line2d_9\">\n      <g>\n       <use style=\"stroke:#000000;stroke-width:0.8;\" x=\"26.925\" xlink:href=\"#mc9c368b7db\" y=\"44.974219\"/>\n      </g>\n     </g>\n     <g id=\"text_9\">\n      <!-- 5 -->\n      <g transform=\"translate(13.5625 48.773437)scale(0.1 -0.1)\">\n       <use xlink:href=\"#DejaVuSans-53\"/>\n      </g>\n     </g>\n    </g>\n    <g id=\"ytick_3\">\n     <g id=\"line2d_10\">\n      <g>\n       <use style=\"stroke:#000000;stroke-width:0.8;\" x=\"26.925\" xlink:href=\"#mc9c368b7db\" y=\"78.949219\"/>\n      </g>\n     </g>\n     <g id=\"text_10\">\n      <!-- 10 -->\n      <g transform=\"translate(7.2 82.748437)scale(0.1 -0.1)\">\n       <use xlink:href=\"#DejaVuSans-49\"/>\n       <use x=\"63.623047\" xlink:href=\"#DejaVuSans-48\"/>\n      </g>\n     </g>\n    </g>\n    <g id=\"ytick_4\">\n     <g id=\"line2d_11\">\n      <g>\n       <use style=\"stroke:#000000;stroke-width:0.8;\" x=\"26.925\" xlink:href=\"#mc9c368b7db\" y=\"112.924219\"/>\n      </g>\n     </g>\n     <g id=\"text_11\">\n      <!-- 15 -->\n      <g transform=\"translate(7.2 116.723437)scale(0.1 -0.1)\">\n       <use xlink:href=\"#DejaVuSans-49\"/>\n       <use x=\"63.623047\" xlink:href=\"#DejaVuSans-53\"/>\n      </g>\n     </g>\n    </g>\n    <g id=\"ytick_5\">\n     <g id=\"line2d_12\">\n      <g>\n       <use style=\"stroke:#000000;stroke-width:0.8;\" x=\"26.925\" xlink:href=\"#mc9c368b7db\" y=\"146.899219\"/>\n      </g>\n     </g>\n     <g id=\"text_12\">\n      <!-- 20 -->\n      <g transform=\"translate(7.2 150.698437)scale(0.1 -0.1)\">\n       <use xlink:href=\"#DejaVuSans-50\"/>\n       <use x=\"63.623047\" xlink:href=\"#DejaVuSans-48\"/>\n      </g>\n     </g>\n    </g>\n    <g id=\"ytick_6\">\n     <g id=\"line2d_13\">\n      <g>\n       <use style=\"stroke:#000000;stroke-width:0.8;\" x=\"26.925\" xlink:href=\"#mc9c368b7db\" y=\"180.874219\"/>\n      </g>\n     </g>\n     <g id=\"text_13\">\n      <!-- 25 -->\n      <g transform=\"translate(7.2 184.673437)scale(0.1 -0.1)\">\n       <use xlink:href=\"#DejaVuSans-50\"/>\n       <use x=\"63.623047\" xlink:href=\"#DejaVuSans-53\"/>\n      </g>\n     </g>\n    </g>\n    <g id=\"ytick_7\">\n     <g id=\"line2d_14\">\n      <g>\n       <use style=\"stroke:#000000;stroke-width:0.8;\" x=\"26.925\" xlink:href=\"#mc9c368b7db\" y=\"214.849219\"/>\n      </g>\n     </g>\n     <g id=\"text_14\">\n      <!-- 30 -->\n      <g transform=\"translate(7.2 218.648437)scale(0.1 -0.1)\">\n       <use xlink:href=\"#DejaVuSans-51\"/>\n       <use x=\"63.623047\" xlink:href=\"#DejaVuSans-48\"/>\n      </g>\n     </g>\n    </g>\n   </g>\n   <g id=\"patch_3\">\n    <path d=\"M 26.925 225.041719 \nL 26.925 7.601719 \n\" style=\"fill:none;stroke:#000000;stroke-linecap:square;stroke-linejoin:miter;stroke-width:0.8;\"/>\n   </g>\n   <g id=\"patch_4\">\n    <path d=\"M 244.365 225.041719 \nL 244.365 7.601719 \n\" style=\"fill:none;stroke:#000000;stroke-linecap:square;stroke-linejoin:miter;stroke-width:0.8;\"/>\n   </g>\n   <g id=\"patch_5\">\n    <path d=\"M 26.925 225.041719 \nL 244.365 225.041719 \n\" style=\"fill:none;stroke:#000000;stroke-linecap:square;stroke-linejoin:miter;stroke-width:0.8;\"/>\n   </g>\n   <g id=\"patch_6\">\n    <path d=\"M 26.925 7.601719 \nL 244.365 7.601719 \n\" style=\"fill:none;stroke:#000000;stroke-linecap:square;stroke-linejoin:miter;stroke-width:0.8;\"/>\n   </g>\n  </g>\n </g>\n <defs>\n  <clipPath id=\"p9d27259911\">\n   <rect height=\"217.44\" width=\"217.44\" x=\"26.925\" y=\"7.601719\"/>\n  </clipPath>\n </defs>\n</svg>\n",
      "image/png": "[encoded data removed]"
     },
     "metadata": {
      "needs_background": "light"
     }
    }
   ],
   "source": [
    "X_polish, Y_polish = load_polish_dataset()\n",
    "plt.imshow(cv2.cvtColor(X_polish[5],cv2.COLOR_BGR2RGB).astype('float32'))\n",
    "plt.show()"
   ]
  },
  {
   "cell_type": "markdown",
   "metadata": {},
   "source": [
    "## Deep learning functions and its tests"
   ]
  },
  {
   "cell_type": "code",
   "execution_count": 30,
   "metadata": {},
   "outputs": [],
   "source": [
    "def create_placeholders(n_H0, n_W0, n_C0, n_y):\n",
    "    X = tf.placeholder(shape=[None, n_H0, n_W0, n_C0], dtype='float')\n",
    "    Y = tf.placeholder(shape=[None, n_y], dtype='float')\n",
    "    return X, Y"
   ]
  },
  {
   "cell_type": "code",
   "execution_count": 31,
   "metadata": {},
   "outputs": [],
   "source": [
    "def initialize_parameters():\n",
    "    tf.set_random_seed(1)\n",
    "    W1 = tf.get_variable(\"W1\", [5, 5, 3, 8], initializer = tf.contrib.layers.xavier_initializer(seed = 0))\n",
    "    W2 = tf.get_variable(\"W2\", [4, 4, 8, 16], initializer = tf.contrib.layers.xavier_initializer(seed = 0))\n",
    "    W3 = tf.get_variable(\"W3\", [3, 3, 16, 32], initializer = tf.contrib.layers.xavier_initializer(seed = 0))\n",
    "    W4 = tf.get_variable(\"W4\", [2, 2, 32, 64], initializer = tf.contrib.layers.xavier_initializer(seed = 0))\n",
    "    \n",
    "    parameters = {\"W1\": W1,\n",
    "                  \"W2\": W2,\n",
    "                  \"W3\": W3, \n",
    "                  \"W4\": W4}\n",
    "    \n",
    "    return parameters"
   ]
  },
  {
   "cell_type": "code",
   "execution_count": 32,
   "metadata": {},
   "outputs": [],
   "source": [
    "def forward_propagation(X, parameters):\n",
    "    # Retrieve the parameters from the dictionary \"parameters\" \n",
    "    W1 = parameters['W1']\n",
    "    W2 = parameters['W2']\n",
    "    W3 = parameters['W3']\n",
    "    W4 = parameters['W4']\n",
    "    \n",
    "    # CONV2D: \n",
    "    Z1 = tf.nn.conv2d(X, W1, strides = [1,1,1,1], padding = 'SAME')\n",
    "    # RELU\n",
    "    A1 = tf.nn.relu(Z1)\n",
    "    # MAXPOOL:\n",
    "    P1 = tf.nn.max_pool(A1, ksize = [1,5,5,1], strides = [1,5,5,1], padding = 'SAME')\n",
    "    \n",
    "    # CONV2D: \n",
    "    Z2 = tf.nn.conv2d(P1, W2, strides = [1,1,1,1], padding = 'SAME')\n",
    "    # RELU\n",
    "    A2 = tf.nn.relu(Z2)\n",
    "    # MAXPOOL: \n",
    "    P2 = tf.nn.max_pool(A2, ksize = [1,4,4,1], strides = [1,4,4,1], padding = 'SAME')\n",
    "    \n",
    "    # CONV2D: \n",
    "    Z3 = tf.nn.conv2d(P2, W3, strides = [1,1,1,1], padding = 'SAME')\n",
    "    # RELU\n",
    "    A3 = tf.nn.relu(Z3)\n",
    "    # MAXPOOL:\n",
    "    P3 = tf.nn.max_pool(A3, ksize = [1,3,3,1], strides = [1,3,3,1], padding = 'SAME')\n",
    "    \n",
    "    # CONV2D: \n",
    "    Z4 = tf.nn.conv2d(P3, W4, strides = [1,1,1,1], padding = 'SAME')\n",
    "    # RELU\n",
    "    A4 = tf.nn.relu(Z4)\n",
    "    # MAXPOOL:\n",
    "    P4 = tf.nn.max_pool(A4, ksize = [1,2,2,1], strides = [1,2,2,1], padding = 'SAME')\n",
    "    \n",
    "    # FLATTEN\n",
    "    F = tf.contrib.layers.flatten(P4)\n",
    "    # FULLY-CONNECTED without non-linear activation function\n",
    "    Z5 = tf.contrib.layers.fully_connected(F, 43, activation_fn=None)\n",
    "\n",
    "    return Z5"
   ]
  },
  {
   "cell_type": "code",
   "execution_count": 33,
   "metadata": {},
   "outputs": [],
   "source": [
    "\n",
    "def compute_cost(Z5, Y):\n",
    "    cost = tf.reduce_mean(tf.nn.softmax_cross_entropy_with_logits(logits = Z5, labels = Y))\n",
    "\n",
    "    return cost"
   ]
  },
  {
   "cell_type": "code",
   "execution_count": 34,
   "metadata": {},
   "outputs": [],
   "source": [
    "def random_mini_batches(X, Y, mini_batch_size = 64, seed = 0):\n",
    "    np.random.seed(seed)            # To make your \"random\" minibatches the same as ours\n",
    "    m = X.shape[0]                  # number of training examples\n",
    "    mini_batches = []\n",
    "        \n",
    "    # Step 1: Shuffle (X, Y)\n",
    "    permutation = list(np.random.permutation(m))\n",
    "    shuffled_X = X[permutation, :, :, :]\n",
    "    shuffled_Y = Y[permutation, :]\n",
    "\n",
    "    # Step 2: Partition (shuffled_X, shuffled_Y). Minus the end case.\n",
    "    num_complete_minibatches = math.floor(m/mini_batch_size) # number of mini batches of size mini_batch_size in your partitionning\n",
    "    for k in range(0, num_complete_minibatches):\n",
    "        mini_batch_X = shuffled_X[k*mini_batch_size : (k+1)*mini_batch_size, :,  :, :]\n",
    "        mini_batch_Y = shuffled_Y[k*mini_batch_size : (k+1)*mini_batch_size, :]\n",
    "        mini_batch = (mini_batch_X, mini_batch_Y)\n",
    "        mini_batches.append(mini_batch)\n",
    "    \n",
    "    # Handling the end case (last mini-batch < mini_batch_size)\n",
    "    if m % mini_batch_size != 0:\n",
    "        mini_batch_X = shuffled_X[num_complete_minibatches*mini_batch_size:, :, :, :]\n",
    "        mini_batch_Y = shuffled_Y[num_complete_minibatches*mini_batch_size:, :]\n",
    "        mini_batch = (mini_batch_X, mini_batch_Y)\n",
    "        mini_batches.append(mini_batch)\n",
    "    \n",
    "    return mini_batches"
   ]
  },
  {
   "cell_type": "code",
   "execution_count": 35,
   "metadata": {},
   "outputs": [],
   "source": [
    "def model(X_train, Y_train, X_test, Y_test, learning_rate = 0.009,\n",
    "          num_epochs = 26, minibatch_size = 256, print_cost = True):\n",
    "    \n",
    "    ops.reset_default_graph()                         # to be able to rerun the model without overwriting tf variables\n",
    "    tf.set_random_seed(1)                             # to keep results consistent (tensorflow seed)\n",
    "    seed = 3                                         # to keep results consistent (numpy seed)\n",
    "    (m, n_H0, n_W0, n_C0) = X_train.shape             \n",
    "    n_y = Y_train.shape[1]                            \n",
    "    costs = []                                        # To keep track of the cost\n",
    "    \n",
    "    X, Y = create_placeholders(n_H0, n_W0, n_C0, n_y)\n",
    "    parameters = initialize_parameters()\n",
    "    \n",
    "    Z3 = forward_propagation(X, parameters)\n",
    "    cost = compute_cost(Z3, Y)\n",
    "    \n",
    "    optimizer = tf.train.AdamOptimizer(learning_rate = learning_rate).minimize(cost)\n",
    "    \n",
    "    init = tf.global_variables_initializer()\n",
    "     \n",
    "    with tf.Session() as sess:\n",
    "        sess.run(init)\n",
    "        for epoch in range(num_epochs):\n",
    "            minibatch_cost = 0.\n",
    "            num_minibatches = int(m / minibatch_size) # number of minibatches of size minibatch_size in the train set\n",
    "            seed = seed + 1\n",
    "            minibatches = random_mini_batches(X_train, Y_train, minibatch_size, seed)\n",
    "\n",
    "            for minibatch in minibatches:\n",
    "\n",
    "                # Select a minibatch\n",
    "                (minibatch_X, minibatch_Y) = minibatch\n",
    "                _ , temp_cost = sess.run(fetches=[optimizer, cost],\n",
    "                                         feed_dict={X: minibatch_X,\n",
    "                                                    Y: minibatch_Y})\n",
    "                minibatch_cost += temp_cost / num_minibatches\n",
    "                \n",
    "\n",
    "            # Print the cost every epoch\n",
    "            if print_cost == True and epoch % 5 == 0:\n",
    "                print (\"Cost after epoch %i: %f\" % (epoch, minibatch_cost))\n",
    "            if print_cost == True and epoch % 1 == 0:\n",
    "                costs.append(minibatch_cost)\n",
    "        \n",
    "        \n",
    "        # plot the cost\n",
    "        plt.plot(np.squeeze(costs))\n",
    "        plt.ylabel('cost')\n",
    "        plt.xlabel('iterations (per tens)')\n",
    "        plt.title(\"Learning rate =\" + str(learning_rate))\n",
    "        plt.show()\n",
    "\n",
    "        # Calculate the correct predictions\n",
    "        predict_op = tf.argmax(Z3, 1)\n",
    "        correct_prediction = tf.equal(predict_op, tf.argmax(Y, 1))\n",
    "        \n",
    "        # Calculate accuracy on the test set\n",
    "        accuracy = tf.reduce_mean(tf.cast(correct_prediction, \"float\"))\n",
    "        train_accuracy = accuracy.eval({X: X_train, Y: Y_train})\n",
    "        print(\"Train Accuracy:\", train_accuracy)\n",
    "        test_accuracy = accuracy.eval({X: X_test, Y: Y_test})\n",
    "        print(\"Test Accuracy:\", test_accuracy)"
   ]
  },
  {
   "cell_type": "code",
   "execution_count": 36,
   "metadata": {},
   "outputs": [
    {
     "output_type": "stream",
     "name": "stdout",
     "text": "WARNING:tensorflow:\nThe TensorFlow contrib module will not be included in TensorFlow 2.0.\nFor more information, please see:\n  * https://github.com/tensorflow/community/blob/master/rfcs/20180907-contrib-sunset.md\n  * https://github.com/tensorflow/addons\n  * https://github.com/tensorflow/io (for I/O related ops)\nIf you depend on functionality not listed there, please file an issue.\n\nWARNING:tensorflow:From /home/wedon4/anaconda3/envs/traffic_signs/lib/python3.7/site-packages/tensorflow/contrib/layers/python/layers/layers.py:1634: flatten (from tensorflow.python.layers.core) is deprecated and will be removed in a future version.\nInstructions for updating:\nUse keras.layers.flatten instead.\nWARNING:tensorflow:From <ipython-input-33-8b78ec83cc89>:2: softmax_cross_entropy_with_logits (from tensorflow.python.ops.nn_ops) is deprecated and will be removed in a future version.\nInstructions for updating:\n\nFuture major versions of TensorFlow will allow gradients to flow\ninto the labels input on backprop by default.\n\nSee `tf.nn.softmax_cross_entropy_with_logits_v2`.\n\nCost after epoch 0: 2.687187\n"
    },
    {
     "output_type": "error",
     "ename": "KeyboardInterrupt",
     "evalue": "",
     "traceback": [
      "\u001b[0;31m---------------------------------------------------------------------------\u001b[0m",
      "\u001b[0;31mKeyboardInterrupt\u001b[0m                         Traceback (most recent call last)",
      "\u001b[0;32m<ipython-input-36-79f9be70861d>\u001b[0m in \u001b[0;36m<module>\u001b[0;34m\u001b[0m\n\u001b[0;32m----> 1\u001b[0;31m \u001b[0mmodel\u001b[0m\u001b[0;34m(\u001b[0m\u001b[0mX_train\u001b[0m\u001b[0;34m,\u001b[0m \u001b[0mY_train\u001b[0m\u001b[0;34m,\u001b[0m \u001b[0mX_polish\u001b[0m\u001b[0;34m,\u001b[0m \u001b[0mY_polish\u001b[0m \u001b[0;34m)\u001b[0m\u001b[0;34m\u001b[0m\u001b[0;34m\u001b[0m\u001b[0m\n\u001b[0m",
      "\u001b[0;32m<ipython-input-35-0e9341c4098c>\u001b[0m in \u001b[0;36mmodel\u001b[0;34m(X_train, Y_train, X_test, Y_test, learning_rate, num_epochs, minibatch_size, print_cost)\u001b[0m\n\u001b[1;32m     33\u001b[0m                 _ , temp_cost = sess.run(fetches=[optimizer, cost],\n\u001b[1;32m     34\u001b[0m                                          feed_dict={X: minibatch_X,\n\u001b[0;32m---> 35\u001b[0;31m                                                     Y: minibatch_Y})\n\u001b[0m\u001b[1;32m     36\u001b[0m                 \u001b[0mminibatch_cost\u001b[0m \u001b[0;34m+=\u001b[0m \u001b[0mtemp_cost\u001b[0m \u001b[0;34m/\u001b[0m \u001b[0mnum_minibatches\u001b[0m\u001b[0;34m\u001b[0m\u001b[0;34m\u001b[0m\u001b[0m\n\u001b[1;32m     37\u001b[0m \u001b[0;34m\u001b[0m\u001b[0m\n",
      "\u001b[0;32m~/anaconda3/envs/traffic_signs/lib/python3.7/site-packages/tensorflow/python/client/session.py\u001b[0m in \u001b[0;36mrun\u001b[0;34m(self, fetches, feed_dict, options, run_metadata)\u001b[0m\n\u001b[1;32m    948\u001b[0m     \u001b[0;32mtry\u001b[0m\u001b[0;34m:\u001b[0m\u001b[0;34m\u001b[0m\u001b[0;34m\u001b[0m\u001b[0m\n\u001b[1;32m    949\u001b[0m       result = self._run(None, fetches, feed_dict, options_ptr,\n\u001b[0;32m--> 950\u001b[0;31m                          run_metadata_ptr)\n\u001b[0m\u001b[1;32m    951\u001b[0m       \u001b[0;32mif\u001b[0m \u001b[0mrun_metadata\u001b[0m\u001b[0;34m:\u001b[0m\u001b[0;34m\u001b[0m\u001b[0;34m\u001b[0m\u001b[0m\n\u001b[1;32m    952\u001b[0m         \u001b[0mproto_data\u001b[0m \u001b[0;34m=\u001b[0m \u001b[0mtf_session\u001b[0m\u001b[0;34m.\u001b[0m\u001b[0mTF_GetBuffer\u001b[0m\u001b[0;34m(\u001b[0m\u001b[0mrun_metadata_ptr\u001b[0m\u001b[0;34m)\u001b[0m\u001b[0;34m\u001b[0m\u001b[0;34m\u001b[0m\u001b[0m\n",
      "\u001b[0;32m~/anaconda3/envs/traffic_signs/lib/python3.7/site-packages/tensorflow/python/client/session.py\u001b[0m in \u001b[0;36m_run\u001b[0;34m(self, handle, fetches, feed_dict, options, run_metadata)\u001b[0m\n\u001b[1;32m   1171\u001b[0m     \u001b[0;32mif\u001b[0m \u001b[0mfinal_fetches\u001b[0m \u001b[0;32mor\u001b[0m \u001b[0mfinal_targets\u001b[0m \u001b[0;32mor\u001b[0m \u001b[0;34m(\u001b[0m\u001b[0mhandle\u001b[0m \u001b[0;32mand\u001b[0m \u001b[0mfeed_dict_tensor\u001b[0m\u001b[0;34m)\u001b[0m\u001b[0;34m:\u001b[0m\u001b[0;34m\u001b[0m\u001b[0;34m\u001b[0m\u001b[0m\n\u001b[1;32m   1172\u001b[0m       results = self._do_run(handle, final_targets, final_fetches,\n\u001b[0;32m-> 1173\u001b[0;31m                              feed_dict_tensor, options, run_metadata)\n\u001b[0m\u001b[1;32m   1174\u001b[0m     \u001b[0;32melse\u001b[0m\u001b[0;34m:\u001b[0m\u001b[0;34m\u001b[0m\u001b[0;34m\u001b[0m\u001b[0m\n\u001b[1;32m   1175\u001b[0m       \u001b[0mresults\u001b[0m \u001b[0;34m=\u001b[0m \u001b[0;34m[\u001b[0m\u001b[0;34m]\u001b[0m\u001b[0;34m\u001b[0m\u001b[0;34m\u001b[0m\u001b[0m\n",
      "\u001b[0;32m~/anaconda3/envs/traffic_signs/lib/python3.7/site-packages/tensorflow/python/client/session.py\u001b[0m in \u001b[0;36m_do_run\u001b[0;34m(self, handle, target_list, fetch_list, feed_dict, options, run_metadata)\u001b[0m\n\u001b[1;32m   1348\u001b[0m     \u001b[0;32mif\u001b[0m \u001b[0mhandle\u001b[0m \u001b[0;32mis\u001b[0m \u001b[0;32mNone\u001b[0m\u001b[0;34m:\u001b[0m\u001b[0;34m\u001b[0m\u001b[0;34m\u001b[0m\u001b[0m\n\u001b[1;32m   1349\u001b[0m       return self._do_call(_run_fn, feeds, fetches, targets, options,\n\u001b[0;32m-> 1350\u001b[0;31m                            run_metadata)\n\u001b[0m\u001b[1;32m   1351\u001b[0m     \u001b[0;32melse\u001b[0m\u001b[0;34m:\u001b[0m\u001b[0;34m\u001b[0m\u001b[0;34m\u001b[0m\u001b[0m\n\u001b[1;32m   1352\u001b[0m       \u001b[0;32mreturn\u001b[0m \u001b[0mself\u001b[0m\u001b[0;34m.\u001b[0m\u001b[0m_do_call\u001b[0m\u001b[0;34m(\u001b[0m\u001b[0m_prun_fn\u001b[0m\u001b[0;34m,\u001b[0m \u001b[0mhandle\u001b[0m\u001b[0;34m,\u001b[0m \u001b[0mfeeds\u001b[0m\u001b[0;34m,\u001b[0m \u001b[0mfetches\u001b[0m\u001b[0;34m)\u001b[0m\u001b[0;34m\u001b[0m\u001b[0;34m\u001b[0m\u001b[0m\n",
      "\u001b[0;32m~/anaconda3/envs/traffic_signs/lib/python3.7/site-packages/tensorflow/python/client/session.py\u001b[0m in \u001b[0;36m_do_call\u001b[0;34m(self, fn, *args)\u001b[0m\n\u001b[1;32m   1354\u001b[0m   \u001b[0;32mdef\u001b[0m \u001b[0m_do_call\u001b[0m\u001b[0;34m(\u001b[0m\u001b[0mself\u001b[0m\u001b[0;34m,\u001b[0m \u001b[0mfn\u001b[0m\u001b[0;34m,\u001b[0m \u001b[0;34m*\u001b[0m\u001b[0margs\u001b[0m\u001b[0;34m)\u001b[0m\u001b[0;34m:\u001b[0m\u001b[0;34m\u001b[0m\u001b[0;34m\u001b[0m\u001b[0m\n\u001b[1;32m   1355\u001b[0m     \u001b[0;32mtry\u001b[0m\u001b[0;34m:\u001b[0m\u001b[0;34m\u001b[0m\u001b[0;34m\u001b[0m\u001b[0m\n\u001b[0;32m-> 1356\u001b[0;31m       \u001b[0;32mreturn\u001b[0m \u001b[0mfn\u001b[0m\u001b[0;34m(\u001b[0m\u001b[0;34m*\u001b[0m\u001b[0margs\u001b[0m\u001b[0;34m)\u001b[0m\u001b[0;34m\u001b[0m\u001b[0;34m\u001b[0m\u001b[0m\n\u001b[0m\u001b[1;32m   1357\u001b[0m     \u001b[0;32mexcept\u001b[0m \u001b[0merrors\u001b[0m\u001b[0;34m.\u001b[0m\u001b[0mOpError\u001b[0m \u001b[0;32mas\u001b[0m \u001b[0me\u001b[0m\u001b[0;34m:\u001b[0m\u001b[0;34m\u001b[0m\u001b[0;34m\u001b[0m\u001b[0m\n\u001b[1;32m   1358\u001b[0m       \u001b[0mmessage\u001b[0m \u001b[0;34m=\u001b[0m \u001b[0mcompat\u001b[0m\u001b[0;34m.\u001b[0m\u001b[0mas_text\u001b[0m\u001b[0;34m(\u001b[0m\u001b[0me\u001b[0m\u001b[0;34m.\u001b[0m\u001b[0mmessage\u001b[0m\u001b[0;34m)\u001b[0m\u001b[0;34m\u001b[0m\u001b[0;34m\u001b[0m\u001b[0m\n",
      "\u001b[0;32m~/anaconda3/envs/traffic_signs/lib/python3.7/site-packages/tensorflow/python/client/session.py\u001b[0m in \u001b[0;36m_run_fn\u001b[0;34m(feed_dict, fetch_list, target_list, options, run_metadata)\u001b[0m\n\u001b[1;32m   1339\u001b[0m       \u001b[0mself\u001b[0m\u001b[0;34m.\u001b[0m\u001b[0m_extend_graph\u001b[0m\u001b[0;34m(\u001b[0m\u001b[0;34m)\u001b[0m\u001b[0;34m\u001b[0m\u001b[0;34m\u001b[0m\u001b[0m\n\u001b[1;32m   1340\u001b[0m       return self._call_tf_sessionrun(\n\u001b[0;32m-> 1341\u001b[0;31m           options, feed_dict, fetch_list, target_list, run_metadata)\n\u001b[0m\u001b[1;32m   1342\u001b[0m \u001b[0;34m\u001b[0m\u001b[0m\n\u001b[1;32m   1343\u001b[0m     \u001b[0;32mdef\u001b[0m \u001b[0m_prun_fn\u001b[0m\u001b[0;34m(\u001b[0m\u001b[0mhandle\u001b[0m\u001b[0;34m,\u001b[0m \u001b[0mfeed_dict\u001b[0m\u001b[0;34m,\u001b[0m \u001b[0mfetch_list\u001b[0m\u001b[0;34m)\u001b[0m\u001b[0;34m:\u001b[0m\u001b[0;34m\u001b[0m\u001b[0;34m\u001b[0m\u001b[0m\n",
      "\u001b[0;32m~/anaconda3/envs/traffic_signs/lib/python3.7/site-packages/tensorflow/python/client/session.py\u001b[0m in \u001b[0;36m_call_tf_sessionrun\u001b[0;34m(self, options, feed_dict, fetch_list, target_list, run_metadata)\u001b[0m\n\u001b[1;32m   1427\u001b[0m     return tf_session.TF_SessionRun_wrapper(\n\u001b[1;32m   1428\u001b[0m         \u001b[0mself\u001b[0m\u001b[0;34m.\u001b[0m\u001b[0m_session\u001b[0m\u001b[0;34m,\u001b[0m \u001b[0moptions\u001b[0m\u001b[0;34m,\u001b[0m \u001b[0mfeed_dict\u001b[0m\u001b[0;34m,\u001b[0m \u001b[0mfetch_list\u001b[0m\u001b[0;34m,\u001b[0m \u001b[0mtarget_list\u001b[0m\u001b[0;34m,\u001b[0m\u001b[0;34m\u001b[0m\u001b[0;34m\u001b[0m\u001b[0m\n\u001b[0;32m-> 1429\u001b[0;31m         run_metadata)\n\u001b[0m\u001b[1;32m   1430\u001b[0m \u001b[0;34m\u001b[0m\u001b[0m\n\u001b[1;32m   1431\u001b[0m   \u001b[0;32mdef\u001b[0m \u001b[0m_call_tf_sessionprun\u001b[0m\u001b[0;34m(\u001b[0m\u001b[0mself\u001b[0m\u001b[0;34m,\u001b[0m \u001b[0mhandle\u001b[0m\u001b[0;34m,\u001b[0m \u001b[0mfeed_dict\u001b[0m\u001b[0;34m,\u001b[0m \u001b[0mfetch_list\u001b[0m\u001b[0;34m)\u001b[0m\u001b[0;34m:\u001b[0m\u001b[0;34m\u001b[0m\u001b[0;34m\u001b[0m\u001b[0m\n",
      "\u001b[0;31mKeyboardInterrupt\u001b[0m: "
     ]
    }
   ],
   "source": [
    "model(X_train, Y_train, X_polish, Y_polish )"
   ]
  },
  {
   "cell_type": "code",
   "execution_count": null,
   "metadata": {},
   "outputs": [],
   "source": []
  }
 ],
 "metadata": {
  "kernelspec": {
   "display_name": "traffic_signs_conda",
   "language": "python",
   "name": "traffic_signs_conda"
  },
  "language_info": {
   "codemirror_mode": {
    "name": "ipython",
    "version": 3
   },
   "file_extension": ".py",
   "mimetype": "text/x-python",
   "name": "python",
   "nbconvert_exporter": "python",
   "pygments_lexer": "ipython3",
   "version": "3.8.2-final"
  }
 },
 "nbformat": 4,
 "nbformat_minor": 4
}